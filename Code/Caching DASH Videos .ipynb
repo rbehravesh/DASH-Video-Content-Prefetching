{
 "cells": [
  {
   "cell_type": "markdown",
   "metadata": {},
   "source": [
    "# <p style=\"text-align:center\" color='red' ><font color='blue'> Edge-assisted DASH Video Caching in 5G Networks </font> </p>\n"
   ]
  },
  {
   "cell_type": "markdown",
   "metadata": {},
   "source": [
    "# Packages"
   ]
  },
  {
   "cell_type": "code",
   "execution_count": 56,
   "metadata": {},
   "outputs": [],
   "source": [
    "import numpy as np\n",
    "import matplotlib.pyplot as plt\n",
    "import random\n",
    "import itertools\n",
    "import math\n",
    "from scipy.spatial import distance\n",
    "from gurobipy import *\n",
    "import networkx as nx \n",
    "import time\n"
   ]
  },
  {
   "cell_type": "code",
   "execution_count": 57,
   "metadata": {},
   "outputs": [],
   "source": [
    "objectiveName = 'Obj-cacheHit'\n",
    "#objectiveName = 'Obj-byteHit'"
   ]
  },
  {
   "cell_type": "markdown",
   "metadata": {},
   "source": [
    "# Data Units"
   ]
  },
  {
   "cell_type": "code",
   "execution_count": 58,
   "metadata": {},
   "outputs": [],
   "source": [
    "Byteps = 8.0#bit\n",
    "Kbps = KB = 1000.0\n",
    "Mbps = MB = 1000.0 * KB\n",
    "Gbps = GB = 1000.0 * MB\n",
    "GHz = 1000000000.0"
   ]
  },
  {
   "cell_type": "code",
   "execution_count": 59,
   "metadata": {},
   "outputs": [],
   "source": [
    "# A set of 3 gNodeBs are connected to each other\n",
    "# through 20 Gbps Xn backhaul links, while each of the three\n",
    "# gNodeBs is connected to the aggregation point using 20 Gbps\n",
    "# N G backhaul links which in turn is connected to the 5G\n",
    "# core network using 50 Gbps backhaul links"
   ]
  },
  {
   "cell_type": "code",
   "execution_count": null,
   "metadata": {},
   "outputs": [],
   "source": []
  },
  {
   "cell_type": "markdown",
   "metadata": {},
   "source": [
    "# <p style=\"text-align:center\" color='red' ><font color='red'>  Substrate Network </font> </p>\n",
    "\n",
    "\n",
    "# Number of resources "
   ]
  },
  {
   "cell_type": "code",
   "execution_count": 60,
   "metadata": {},
   "outputs": [],
   "source": [
    "# Parameters NUMBERS\n",
    "n_gnb = 3 #Number of gNBs nodes (Each gNB is collocated with one MEC node)\n",
    "n_core = 1 #Number of core nodes\n",
    "n = n_gnb + n_core  #Number of nodes in the network (the sumation of gNBs + and core server)\n",
    "\n",
    "n_vids = 2 # Number of videos\n",
    "n_seg = 2 # number of video segments (Videos can be divided into segments with equal duration)\n",
    "n_qul = 5 # Each segment is available in multiple qualities\n",
    "\n",
    "segDuration = 8 #second\n",
    "\n",
    "\n",
    "nodeStorCap = 1 * GB\n",
    "x2LinkCap = 20 * Gbps\n",
    "backhaulLinkCap = 2 * Gbps\n"
   ]
  },
  {
   "cell_type": "markdown",
   "metadata": {},
   "source": [
    "# Sets"
   ]
  },
  {
   "cell_type": "code",
   "execution_count": 61,
   "metadata": {},
   "outputs": [],
   "source": [
    "N_gnb  = {'Node'+str(n) for n in range (1, n_gnb + 1)} #Set of gNBs\n",
    "N_core = {'Node'+str(n) for n in range (0, n_core)}  # Set of Video Servers\n",
    "N = N_gnb | N_core # set of all nodes\n",
    "\n",
    "G = nx.DiGraph(name = 'MNO architectue')  # Network graph\n",
    "G.clear()\n",
    "\n",
    "G.add_nodes_from(N_core, numCores = 4,CPU = 2.4 )   # Adding nodes to the graph G\n",
    "G.add_nodes_from(N_gnb,  numCores = 4,CPU = 1.6)\n",
    "\n",
    "for i in N_gnb:   # seting storage attribiute for all the nodes\n",
    "    G.nodes[i]['storage'] = nodeStorCap\n",
    "\n",
    "G.add_edges_from((i,j, {'capacity': backhaulLinkCap}) for i in N_core for j in N_gnb) # Adding links from core to the gNBs to the graph G\n",
    "G.add_edges_from((j,i, {'capacity': backhaulLinkCap}) for i in N_core for j in N_gnb) # Adding links from core to the gNBs to the graph G\n",
    "G.add_edges_from((i,j, {'capacity': x2LinkCap}) for i in N_gnb for j in N_gnb if abs(int(i[4]) - int(j[4])) == 1) # Adding the link between neighbor gNodeBs to the graph G\n",
    "\n",
    "N_vids = {'Vid' + str(i) for i in range (1, n_vids+1)} # Set of videos\n",
    "N_seg = {'Seg' + str(i) for i in range (1, n_seg+1)} # Set of segments\n",
    "N_qul = {'Qual' + str(i) for i in range (1, n_qul+1)} # Set of qualities\n",
    "\n",
    "\n",
    "# Bitrate is the amount of data encoded for a unit of time, and for streaming is usually referenced in megabits\n",
    "#per second (Mbps) for video, and in kilobits per second (kbps) for audio. From a streaming perspective, a higher\n",
    "#video bitrate means a higher quality video that requires more bandwidth.\n",
    "\n",
    "# Recommended video bitrates for SDR uploads   (https://support.google.com/youtube/answer/1722171?hl=en)\n",
    "# Type            Video Bitrate (Standard Frame Rate) (24, 25, 30)       QualityClass    \n",
    "\n",
    "# 2160p (4k)       35-45 Mbps                                                   Q6\n",
    "# 1440p (2k)       16 Mbps                                                      Q5\n",
    "# 1080p            8 Mbps                                                       Q4\n",
    "# 720p             5 Mbps                                                       Q3\n",
    "# 480p             2.5 Mbps                                                     Q2\n",
    "# 360p             1 Mbps                                                       Q1\n",
    "\n",
    "#Qualities\n",
    "#1080p Q5\n",
    "#720p Q4\n",
    "#480p Q3\n",
    "#360p Q2\n",
    "#2409 Q1\n",
    "\n",
    "quality, bitrate = multidict({\n",
    "    'Qual5': 5 * Mbps,\n",
    "    'Qual4': 3 * Mbps, \n",
    "    'Qual3': 1.5 * Mbps, \n",
    "    'Qual2': 0.8 * Mbps,\n",
    "    'Qual1': 0.4 * Mbps,\n",
    "    \n",
    "})\n",
    "\n",
    "\n",
    "quality, maxTransQual = multidict ({\n",
    "    ('Qual5', 'Qual4'): 2,\n",
    "    ('Qual5', 'Qual3'): 3, \n",
    "    ('Qual5', 'Qual2'): 4, \n",
    "    ('Qual5', 'Qual1'): 6,\n",
    "    ('Qual4', 'Qual3'): 4,\n",
    "    ('Qual4', 'Qual2'): 6,\n",
    "    ('Qual4', 'Qual1'): 9, \n",
    "    ('Qual3', 'Qual2'): 8, \n",
    "    ('Qual3', 'Qual1'): 11,\n",
    "    })\n",
    " \n",
    "\n",
    "user, bsAssociation = multidict({ # a dictionary for the size of a video segment in a specific quality \n",
    "    'UE1' : ['Node2'],\n",
    "    'UE2' : ['Node2'], \n",
    "})"
   ]
  },
  {
   "cell_type": "markdown",
   "metadata": {},
   "source": [
    "# Virtual Request Set"
   ]
  },
  {
   "cell_type": "code",
   "execution_count": 62,
   "metadata": {},
   "outputs": [],
   "source": [
    "n_ue = 2  #Number of users\n",
    "N_ue = {'UE' + str(i) for i in range (1, n_ue + 1)}"
   ]
  },
  {
   "cell_type": "code",
   "execution_count": 63,
   "metadata": {},
   "outputs": [],
   "source": [
    "user, userBitrate, userVidSegQaul = multidict({ # a dictionary for the size of a video segment in a specific quality \n",
    "    'UE1' : [10 * Mbps, ['Vid1', 'Seg1', 'Qual2']],\n",
    "    'UE2' : [20 * Mbps, ['Vid2', 'Seg1', 'Qual2']], \n",
    "})"
   ]
  },
  {
   "cell_type": "code",
   "execution_count": 64,
   "metadata": {},
   "outputs": [],
   "source": [
    "vsqnuCombinition = [(v, s, h, n ,u) for v in N_vids for s in N_seg for h in N_qul for n in N_gnb for u in N_ue] # all possible cases for all the videos, segments, and qualities\n",
    "vsqnu, weight = multidict({ # a dictionary to sotre the weight (priority) of each video, segment, quality, node, user combanition \n",
    "    item: 1 for item in vsqnuCombinition\n",
    "})"
   ]
  },
  {
   "cell_type": "markdown",
   "metadata": {},
   "source": [
    "# Model"
   ]
  },
  {
   "cell_type": "code",
   "execution_count": 65,
   "metadata": {},
   "outputs": [],
   "source": [
    "model=Model(\"Caching\")\n",
    "model.reset(0)"
   ]
  },
  {
   "cell_type": "markdown",
   "metadata": {},
   "source": [
    "# Variables"
   ]
  },
  {
   "cell_type": "markdown",
   "metadata": {},
   "source": [
    "$\\boldsymbol{\\chi_{n}^{v, s, q}}$  |  Indicates if the quality $q \\in N_{qul}^{v, s}$ of the segment $s \\in N_{seg}^{v}$ of video $v \\in N_{vids}$ has been mapped on the edge node $n \\in N_{gnb}$.\n",
    "\n",
    "$\\boldsymbol{\\chi_{n, u}^{v, s, q}}$  |  Indicates if the quality $q \\in N_{qul}^{v, s}$ of the segment $s \\in N_{seg}^{v}$ of video $v \\in N_{vids}$ has been mapped on the node $n \\in N$ and it is assigned to the UE $u \\in N_{ue}$.\n",
    "\n",
    "$\\boldsymbol{\\chi_{e}^{ \\bar{e}}}$  |  Indicates if the virtual link $\\bar{e} \\in \\bar{E}$ is mapped on the substrate link $e \\in E$."
   ]
  },
  {
   "cell_type": "code",
   "execution_count": 66,
   "metadata": {},
   "outputs": [],
   "source": [
    "X_vsq_n = {}\n",
    "for v in N_vids:\n",
    "    for s in N_seg:\n",
    "        for q in N_qul:\n",
    "            for n in N:\n",
    "                X_vsq_n [v, s, q, n] = model.addVar(vtype = GRB.BINARY, name = 'X_vsq_n [%s, %s, %s, %s]' % (v, s, q, n))\n"
   ]
  },
  {
   "cell_type": "code",
   "execution_count": 67,
   "metadata": {},
   "outputs": [],
   "source": [
    "X_vsq_nu = {}\n",
    "for n in N:\n",
    "    for u in N_ue:\n",
    "        for h in N_qul:\n",
    "            #if h >= userVidSegQaul[u][2]:\n",
    "                X_vsq_nu [userVidSegQaul[u][0],userVidSegQaul[u][1], h, n, u] = \\\n",
    "                model.addVar(vtype = GRB.BINARY, name = 'X_vsq_nu [%s, %s, %s, %s, %s]' % (userVidSegQaul[u][0], \\\n",
    "                userVidSegQaul[u][1],h, n, u))\n"
   ]
  },
  {
   "cell_type": "code",
   "execution_count": 68,
   "metadata": {},
   "outputs": [],
   "source": [
    "X_ebar_e = {} \n",
    "for u in N_ue:\n",
    "    for e in list(G.edges):\n",
    "            X_ebar_e[u, e] = model.addVar(vtype = GRB.BINARY, name = 'X_ebar_e [%s, %s]' % (u, e))\n",
    "\n",
    "                "
   ]
  },
  {
   "cell_type": "markdown",
   "metadata": {},
   "source": [
    "# Objective Functions"
   ]
  },
  {
   "cell_type": "markdown",
   "metadata": {},
   "source": [
    "\\begin{equation}\\label{eq:1}\n",
    "\\boldsymbol{CacheHit:} \\quad Max {\\sum_{u \\in N_{ue}} \\sum _{n \\in N_{gnb}} \\sum _{\\substack{h \\in N_{qul}^{v, s} \\\\ h \\geq q}} \\alpha_{n} \\chi_{n, h}^{u, v, s, q}}\n",
    "\\end{equation}\n"
   ]
  },
  {
   "cell_type": "code",
   "execution_count": 69,
   "metadata": {},
   "outputs": [],
   "source": [
    "#CORRECT\n",
    "\n",
    "# this line enforces the model to mapp all the video segment qualities at the core\n",
    "# the number of video segment quality on the nodes should be minimized to have better utilization of the cache storage\n",
    "# mapping on the links should be minimized to avoid of selecting links without being necessery\n",
    "\n",
    "if objectiveName == 'Obj-cacheHit':\n",
    "    model.setObjective(quicksum(10000 * weight[userVidSegQaul[u][0], userVidSegQaul[u][1], h, n, u] \\\n",
    "                                * X_vsq_nu[userVidSegQaul[u][0],userVidSegQaul[u][1], h, n, u]\\\n",
    "                                for u in N_ue for n in N_gnb for h in N_qul if h >= userVidSegQaul[u][2]) +\n",
    "                               quicksum(X_vsq_n[v, s, q, n] for v in N_vids for s in N_seg for q in N_qul for n in N_core)\\\n",
    "                            - quicksum(X_vsq_n[v, s, q, n] for v in N_vids for s in N_seg for q in N_qul for n in N_gnb)\\\n",
    "                            - quicksum(X_ebar_e[u, e] for u in N_ue for e in list(G.edges)), GRB.MAXIMIZE) "
   ]
  },
  {
   "cell_type": "markdown",
   "metadata": {},
   "source": [
    "Since the size of video content is usually several orders of magnitude larger than web objects, a cache may quickly run out of storage.\n",
    "Consequently, the temporal locality of video content cannot be well exploited. This will result in a lower byte-hit ratio,\n",
    "which is defined as the amount of the requested data found in the cache divided by the total amount of the requested\n",
    "data."
   ]
  },
  {
   "cell_type": "markdown",
   "metadata": {},
   "source": [
    "\\begin{equation}\\label{eq:1}\n",
    "\\boldsymbol{ByteHit:} \\quad Max {\\sum_{u \\in N_{ue}} \\sum _{n \\in N_{gnb}} \\sum _{\\substack{h \\in N_{qul}^{v, s} \\\\ h \\geq q}} \\alpha_{n} \\chi_{n, h}^{u, v, s, q} \\omega^{v, s, q} \\tau^s}\n",
    "\\end{equation}"
   ]
  },
  {
   "cell_type": "code",
   "execution_count": 70,
   "metadata": {},
   "outputs": [],
   "source": [
    "#CORRECT\n",
    "\n",
    "# this line enforces the model to mapp all the video segment qualities at the core\n",
    "# the number of video segment quality on the nodes should be minimized to have better utilization of the cache storage\n",
    "# mapping on the links should be minimized to avoid of selecting links without being necessery\n",
    "\n",
    "if objectiveName == 'Obj-byteHit':\n",
    "    model.setObjective(quicksum(10000 * weight[userVidSegQaul[u][0], userVidSegQaul[u][1], h, n, u] \\\n",
    "                                * size[X_vsq_nu[userVidSegQaul[u][0],userVidSegQaul[u][1], h]]* X_vsq_nu[userVidSegQaul[u][0],userVidSegQaul[u][1], h, n, u]\\\n",
    "                                for u in N_ue for n in N_gnb for h in N_qul if h >= userVidSegQaul[u][2]) +\n",
    "                               quicksum(X_vsq_n[v, s, q, n] for v in N_vids for s in N_seg for q in N_qul for n in N_core)\\\n",
    "                            - quicksum(X_vsq_n[v, s, q, n] for v in N_vids for s in N_seg for q in N_qul for n in N_gnb)\\\n",
    "                            - quicksum(X_ebar_e[u, e] for u in N_ue for e in list(G.edges)), GRB.MAXIMIZE) "
   ]
  },
  {
   "cell_type": "markdown",
   "metadata": {},
   "source": [
    "# Costraints"
   ]
  },
  {
   "cell_type": "markdown",
   "metadata": {},
   "source": [
    "The first constraint ensures that the storage capacity of the edge nodes are respected and the amount of storage used for storing the videos is less than or equal to the maximum storage capacity of the nodes.\n",
    "\n",
    "\\begin{equation}\\label{eq:3}\n",
    " {\\forall n \\in N_{gnb}: \\sum_{v \\in N_{vids}^{u}} \\sum_{s \\in N_{seg}^{u, v}} \\sum_{q \\in N_{qul}^{u, v, s}} \\chi_{n}^{v, s, q} \\omega^{v, s, q} \\tau^s \\leq \\mathcal{C}_{stor}(n)}\n",
    "\\end{equation}"
   ]
  },
  {
   "cell_type": "code",
   "execution_count": 71,
   "metadata": {},
   "outputs": [],
   "source": [
    "#CORECT\n",
    "for n in N_gnb:\n",
    "    model.addConstr(quicksum(bitrate[q]*segDuration * X_vsq_n[v, s, q, n] for v in N_vids for s in N_seg for q in N_qul) \\\n",
    "                             <= G.nodes[n]['storage'] , name=\"C3\")"
   ]
  },
  {
   "cell_type": "markdown",
   "metadata": {},
   "source": [
    "At any given time, each user should be provided with one video representation (video, segment, quality) that is requesting.\n",
    "\n",
    "\\begin{equation}\n",
    "{\\forall u \\in \\bar{N}_{ue} \\sum_{n \\in N} \\sum _{\\substack{h \\in N_{qul}^{v, s} \\\\ h \\geq q}}:  \\chi_{n, u}^{v, s, h} = 1}\n",
    "\\end{equation}\n",
    "\n"
   ]
  },
  {
   "cell_type": "code",
   "execution_count": 72,
   "metadata": {},
   "outputs": [],
   "source": [
    "#CORRECT\n",
    "for u in N_ue:\n",
    "       model.addConstr(quicksum(X_vsq_nu[userVidSegQaul[u][0],userVidSegQaul[u][1], h, n, u] \\\n",
    "                    for n in G.nodes for h in N_qul if h >= userVidSegQaul[u][2] ) <= 1, name=\"C4\")"
   ]
  },
  {
   "cell_type": "markdown",
   "metadata": {},
   "source": [
    "The following constraint guarantees that a video is feteched to the edge only if at least one user hase been serving from the video chunk or at least one user is requesting the video chunck.\n",
    "\n",
    "\\begin{equation}\\label{eq:7}\n",
    "{\\forall n \\in N, \\forall v \\in N_{vids}^{u} \\forall s \\in N_{seg}^{u} \\forall h \\in N_{qual} h>=q: \\sum_{u \\in \\bar{N}_{ue}}\\chi^{v, s, h}_{u, n} - \\mu* \\chi^{v, s, h}_{n} \\leq 0}\n",
    "\\end{equation}"
   ]
  },
  {
   "cell_type": "code",
   "execution_count": 73,
   "metadata": {
    "scrolled": true
   },
   "outputs": [],
   "source": [
    "M =1000 \n",
    "for n in N:\n",
    "    for v in N_vids:\n",
    "        for s in N_seg:\n",
    "            for h in N_qul:\n",
    "                model.addConstr(quicksum(X_vsq_nu[v, s, h, n, u] - M * X_vsq_n[v, s, h, n] \\\n",
    "                for u in N_ue if v == userVidSegQaul[u][0] if s == userVidSegQaul[u][1]) <= 0, name = \"CX\")"
   ]
  },
  {
   "cell_type": "markdown",
   "metadata": {},
   "source": [
    "this Constraint ensures that the virtual links can be mapped onto a substrate link as long as the link has sufficient capacity:\n",
    "\\begin{equation}\\label{eq:5}\n",
    " { \\forall e \\in E: \\sum_{\\bar{e} \\in \\bar{E}}\\chi_{e}^{ \\bar{e}}  \\omega^{\\bar{e}}_{bwt}  \\leq \\mathcal{C}^{e}_{bwt}}\n",
    "\\end{equation}\n"
   ]
  },
  {
   "cell_type": "code",
   "execution_count": 74,
   "metadata": {
    "scrolled": true
   },
   "outputs": [],
   "source": [
    "for e in G.edges:\n",
    "    model.addConstr(quicksum(X_ebar_e[u, e] * userBitrate[u] for u in N_ue) \\\n",
    "                    <=  G.edges[(e)]['capacity'], name = \"C5\")"
   ]
  },
  {
   "cell_type": "markdown",
   "metadata": {},
   "source": [
    "This Constraint enforces for each UE $u \\in \\bar{N}_{ue}$ and quality $q \\in N_{qul}^{v, s}$ of segment $s \\in N_{seg}^{v}$ of the video $v \\in N_{vids}^{}$ be a continuous path established between the gNB hosting the UE and the gNB providing  the  requested  file.\n",
    "\n",
    "\\begin{equation}\\label{eq:6}\n",
    "\\begin{split}\n",
    "&{n \\in N, \\forall e^{u, q} \\in \\bar{E}:} \\\\\n",
    "&  \\sum_{e \\in E^{n \\rightarrow}} \\chi^{e^{u, q}}_{e} -\n",
    "\\sum_{e \\in E^{\\rightarrow n}} \\chi^{e^{u, q}}_{e} = \\left \\{\n",
    "\\begin{aligned}\n",
    "&-1 && \\text{if}\\ n = u \\\\\n",
    "&1 && \\text{if}\\ n = q \\\\\n",
    "&0 && \\text{otherwise} \n",
    "\\end{aligned} \\right.\n",
    "\\end{split}\n",
    "\\end{equation}\n",
    "where $E^{n \\rightarrow}$ represents the links originating from node $n \\in N$, while $E^{\\rightarrow n}$ represents all the links entering node $n \\in N$."
   ]
  },
  {
   "cell_type": "code",
   "execution_count": 75,
   "metadata": {},
   "outputs": [],
   "source": [
    "for u in N_ue: \n",
    "        for n in N:\n",
    "            if n in N_gnb:\n",
    "                if bsAssociation[u] == n:\n",
    "                    xx = 1\n",
    "                else:\n",
    "                    xx = 0\n",
    "                model.addConstr(-1 * xx + quicksum(X_vsq_nu[userVidSegQaul[u][0],userVidSegQaul[u][1], h, n, u] \\\n",
    "                                    for h in N_qul) \\\n",
    "                   + quicksum(X_ebar_e[u, e] for e in G.edges if e[0] == n ) - \\\n",
    "                     quicksum(X_ebar_e[u, e] for e in G.edges if e[1] == n ) == 0, name =\"RR\")         \n",
    "            else:\n",
    "                 model.addConstr(quicksum(X_vsq_nu[userVidSegQaul[u][0],userVidSegQaul[u][1], h, n, u] \\\n",
    "                                    for h in N_qul) \\\n",
    "                   + quicksum(X_ebar_e[u, e] for e in G.edges if e[0] == n ) - \\\n",
    "                     quicksum(X_ebar_e[u, e] for e in G.edges if e[1] == n ) == 0, name =\"RR\")         \n"
   ]
  },
  {
   "cell_type": "markdown",
   "metadata": {},
   "source": [
    "Video transcoding refers to the process of taking an existing video file (or ongoing stream) and re-encoding it with a different codec or different settings to make it to a lower bit-rate (quality) version. With this constraint we are setting limits over the maximum possible number of videos that can be transcoded from a video segment with quality $h \\in N_{qul}^{v, s}$ to a lower bitrate $q \\in N_{qul}^{v, s}$ that is requested by the user.\n",
    "\\begin{equation}\\label{eq:4}\n",
    " {\\forall n \\in N_{gnb}:\\sum_{u \\in \\bar{N}_{ue}} \\sum _{\\substack{h \\in N_{qul}^{v, s} \\\\ h > q}} \\chi_{n, u}^{v, s, h} - \\Upsilon(h, q, n)\\leq 0 }\n",
    "\\end{equation}\n",
    "\n"
   ]
  },
  {
   "cell_type": "code",
   "execution_count": 76,
   "metadata": {},
   "outputs": [],
   "source": [
    "for n in G.nodes:\n",
    "    if n in N_gnb:\n",
    "        model.addConstr(quicksum(X_vsq_nu[userVidSegQaul[u][0],userVidSegQaul[u][1], h, n, u] \\\n",
    "            for u in N_ue for h in N_qul if h > userVidSegQaul[u][2]) - maxTransQual[h, userVidSegQaul[u][2]] <= 0 , name = \"C7\")"
   ]
  },
  {
   "cell_type": "markdown",
   "metadata": {},
   "source": [
    "# Model Optimization"
   ]
  },
  {
   "cell_type": "code",
   "execution_count": 77,
   "metadata": {},
   "outputs": [
    {
     "name": "stdout",
     "output_type": "stream",
     "text": [
      "Optimize a model with 106 rows, 140 columns and 290 nonzeros\n",
      "Variable types: 0 continuous, 140 integer (140 binary)\n",
      "Coefficient statistics:\n",
      "  Matrix range     [1e+00, 4e+07]\n",
      "  Objective range  [1e+00, 1e+04]\n",
      "  Bounds range     [1e+00, 1e+00]\n",
      "  RHS range        [1e+00, 2e+10]\n",
      "Warning: Model contains large rhs\n",
      "         Consider reformulating model or setting NumericFocus parameter\n",
      "         to avoid numerical issues.\n",
      "Found heuristic solution: objective 10018.000000\n",
      "Presolve removed 101 rows and 122 columns\n",
      "Presolve time: 0.00s\n",
      "Presolved: 5 rows, 18 columns, 32 nonzeros\n",
      "Variable types: 0 continuous, 18 integer (18 binary)\n",
      "\n",
      "Root relaxation: objective 2.001800e+04, 1 iterations, 0.00 seconds\n",
      "\n",
      "    Nodes    |    Current Node    |     Objective Bounds      |     Work\n",
      " Expl Unexpl |  Obj  Depth IntInf | Incumbent    BestBd   Gap | It/Node Time\n",
      "\n",
      "*    0     0               0    20018.000000 20018.0000  0.00%     -    0s\n",
      "\n",
      "Explored 0 nodes (1 simplex iterations) in 0.03 seconds\n",
      "Thread count was 4 (of 4 available processors)\n",
      "\n",
      "Solution count 2: 20018 10018 \n",
      "\n",
      "Optimal solution found (tolerance 1.00e-04)\n",
      "Best objective 2.001800000000e+04, best bound 2.001800000000e+04, gap 0.0000%\n"
     ]
    },
    {
     "data": {
      "text/plain": [
       "[<gurobi.Var X_vsq_n [Vid2, Seg1, Qual2, Node1] (value 0.0)>,\n",
       " <gurobi.Var X_vsq_n [Vid2, Seg1, Qual2, Node0] (value 1.0)>,\n",
       " <gurobi.Var X_vsq_n [Vid2, Seg1, Qual2, Node3] (value 0.0)>,\n",
       " <gurobi.Var X_vsq_n [Vid2, Seg1, Qual2, Node2] (value 0.0)>,\n",
       " <gurobi.Var X_vsq_n [Vid2, Seg1, Qual3, Node1] (value 0.0)>,\n",
       " <gurobi.Var X_vsq_n [Vid2, Seg1, Qual3, Node0] (value 1.0)>,\n",
       " <gurobi.Var X_vsq_n [Vid2, Seg1, Qual3, Node3] (value 0.0)>,\n",
       " <gurobi.Var X_vsq_n [Vid2, Seg1, Qual3, Node2] (value 0.0)>,\n",
       " <gurobi.Var X_vsq_n [Vid2, Seg1, Qual1, Node1] (value -0.0)>,\n",
       " <gurobi.Var X_vsq_n [Vid2, Seg1, Qual1, Node0] (value 1.0)>,\n",
       " <gurobi.Var X_vsq_n [Vid2, Seg1, Qual1, Node3] (value -0.0)>,\n",
       " <gurobi.Var X_vsq_n [Vid2, Seg1, Qual1, Node2] (value -0.0)>,\n",
       " <gurobi.Var X_vsq_n [Vid2, Seg1, Qual4, Node1] (value 0.0)>,\n",
       " <gurobi.Var X_vsq_n [Vid2, Seg1, Qual4, Node0] (value 1.0)>,\n",
       " <gurobi.Var X_vsq_n [Vid2, Seg1, Qual4, Node3] (value -0.0)>,\n",
       " <gurobi.Var X_vsq_n [Vid2, Seg1, Qual4, Node2] (value 0.0)>,\n",
       " <gurobi.Var X_vsq_n [Vid2, Seg1, Qual5, Node1] (value 0.0)>,\n",
       " <gurobi.Var X_vsq_n [Vid2, Seg1, Qual5, Node0] (value 1.0)>,\n",
       " <gurobi.Var X_vsq_n [Vid2, Seg1, Qual5, Node3] (value 0.0)>,\n",
       " <gurobi.Var X_vsq_n [Vid2, Seg1, Qual5, Node2] (value 1.0)>,\n",
       " <gurobi.Var X_vsq_n [Vid2, Seg2, Qual2, Node1] (value 0.0)>,\n",
       " <gurobi.Var X_vsq_n [Vid2, Seg2, Qual2, Node0] (value 1.0)>,\n",
       " <gurobi.Var X_vsq_n [Vid2, Seg2, Qual2, Node3] (value 0.0)>,\n",
       " <gurobi.Var X_vsq_n [Vid2, Seg2, Qual2, Node2] (value 0.0)>,\n",
       " <gurobi.Var X_vsq_n [Vid2, Seg2, Qual3, Node1] (value 0.0)>,\n",
       " <gurobi.Var X_vsq_n [Vid2, Seg2, Qual3, Node0] (value 1.0)>,\n",
       " <gurobi.Var X_vsq_n [Vid2, Seg2, Qual3, Node3] (value 0.0)>,\n",
       " <gurobi.Var X_vsq_n [Vid2, Seg2, Qual3, Node2] (value 0.0)>,\n",
       " <gurobi.Var X_vsq_n [Vid2, Seg2, Qual1, Node1] (value 0.0)>,\n",
       " <gurobi.Var X_vsq_n [Vid2, Seg2, Qual1, Node0] (value 1.0)>,\n",
       " <gurobi.Var X_vsq_n [Vid2, Seg2, Qual1, Node3] (value 0.0)>,\n",
       " <gurobi.Var X_vsq_n [Vid2, Seg2, Qual1, Node2] (value 0.0)>,\n",
       " <gurobi.Var X_vsq_n [Vid2, Seg2, Qual4, Node1] (value 0.0)>,\n",
       " <gurobi.Var X_vsq_n [Vid2, Seg2, Qual4, Node0] (value 1.0)>,\n",
       " <gurobi.Var X_vsq_n [Vid2, Seg2, Qual4, Node3] (value 0.0)>,\n",
       " <gurobi.Var X_vsq_n [Vid2, Seg2, Qual4, Node2] (value 0.0)>,\n",
       " <gurobi.Var X_vsq_n [Vid2, Seg2, Qual5, Node1] (value 0.0)>,\n",
       " <gurobi.Var X_vsq_n [Vid2, Seg2, Qual5, Node0] (value 1.0)>,\n",
       " <gurobi.Var X_vsq_n [Vid2, Seg2, Qual5, Node3] (value 0.0)>,\n",
       " <gurobi.Var X_vsq_n [Vid2, Seg2, Qual5, Node2] (value 0.0)>,\n",
       " <gurobi.Var X_vsq_n [Vid1, Seg1, Qual2, Node1] (value 0.0)>,\n",
       " <gurobi.Var X_vsq_n [Vid1, Seg1, Qual2, Node0] (value 1.0)>,\n",
       " <gurobi.Var X_vsq_n [Vid1, Seg1, Qual2, Node3] (value 0.0)>,\n",
       " <gurobi.Var X_vsq_n [Vid1, Seg1, Qual2, Node2] (value 1.0)>,\n",
       " <gurobi.Var X_vsq_n [Vid1, Seg1, Qual3, Node1] (value 0.0)>,\n",
       " <gurobi.Var X_vsq_n [Vid1, Seg1, Qual3, Node0] (value 1.0)>,\n",
       " <gurobi.Var X_vsq_n [Vid1, Seg1, Qual3, Node3] (value -0.0)>,\n",
       " <gurobi.Var X_vsq_n [Vid1, Seg1, Qual3, Node2] (value 0.0)>,\n",
       " <gurobi.Var X_vsq_n [Vid1, Seg1, Qual1, Node1] (value -0.0)>,\n",
       " <gurobi.Var X_vsq_n [Vid1, Seg1, Qual1, Node0] (value 1.0)>,\n",
       " <gurobi.Var X_vsq_n [Vid1, Seg1, Qual1, Node3] (value -0.0)>,\n",
       " <gurobi.Var X_vsq_n [Vid1, Seg1, Qual1, Node2] (value -0.0)>,\n",
       " <gurobi.Var X_vsq_n [Vid1, Seg1, Qual4, Node1] (value 0.0)>,\n",
       " <gurobi.Var X_vsq_n [Vid1, Seg1, Qual4, Node0] (value 1.0)>,\n",
       " <gurobi.Var X_vsq_n [Vid1, Seg1, Qual4, Node3] (value 0.0)>,\n",
       " <gurobi.Var X_vsq_n [Vid1, Seg1, Qual4, Node2] (value 0.0)>,\n",
       " <gurobi.Var X_vsq_n [Vid1, Seg1, Qual5, Node1] (value 0.0)>,\n",
       " <gurobi.Var X_vsq_n [Vid1, Seg1, Qual5, Node0] (value 1.0)>,\n",
       " <gurobi.Var X_vsq_n [Vid1, Seg1, Qual5, Node3] (value 0.0)>,\n",
       " <gurobi.Var X_vsq_n [Vid1, Seg1, Qual5, Node2] (value 0.0)>,\n",
       " <gurobi.Var X_vsq_n [Vid1, Seg2, Qual2, Node1] (value 0.0)>,\n",
       " <gurobi.Var X_vsq_n [Vid1, Seg2, Qual2, Node0] (value 1.0)>,\n",
       " <gurobi.Var X_vsq_n [Vid1, Seg2, Qual2, Node3] (value 0.0)>,\n",
       " <gurobi.Var X_vsq_n [Vid1, Seg2, Qual2, Node2] (value 0.0)>,\n",
       " <gurobi.Var X_vsq_n [Vid1, Seg2, Qual3, Node1] (value 0.0)>,\n",
       " <gurobi.Var X_vsq_n [Vid1, Seg2, Qual3, Node0] (value 1.0)>,\n",
       " <gurobi.Var X_vsq_n [Vid1, Seg2, Qual3, Node3] (value 0.0)>,\n",
       " <gurobi.Var X_vsq_n [Vid1, Seg2, Qual3, Node2] (value 0.0)>,\n",
       " <gurobi.Var X_vsq_n [Vid1, Seg2, Qual1, Node1] (value 0.0)>,\n",
       " <gurobi.Var X_vsq_n [Vid1, Seg2, Qual1, Node0] (value 1.0)>,\n",
       " <gurobi.Var X_vsq_n [Vid1, Seg2, Qual1, Node3] (value 0.0)>,\n",
       " <gurobi.Var X_vsq_n [Vid1, Seg2, Qual1, Node2] (value 0.0)>,\n",
       " <gurobi.Var X_vsq_n [Vid1, Seg2, Qual4, Node1] (value 0.0)>,\n",
       " <gurobi.Var X_vsq_n [Vid1, Seg2, Qual4, Node0] (value 1.0)>,\n",
       " <gurobi.Var X_vsq_n [Vid1, Seg2, Qual4, Node3] (value 0.0)>,\n",
       " <gurobi.Var X_vsq_n [Vid1, Seg2, Qual4, Node2] (value 0.0)>,\n",
       " <gurobi.Var X_vsq_n [Vid1, Seg2, Qual5, Node1] (value 0.0)>,\n",
       " <gurobi.Var X_vsq_n [Vid1, Seg2, Qual5, Node0] (value 1.0)>,\n",
       " <gurobi.Var X_vsq_n [Vid1, Seg2, Qual5, Node3] (value 0.0)>,\n",
       " <gurobi.Var X_vsq_n [Vid1, Seg2, Qual5, Node2] (value 0.0)>,\n",
       " <gurobi.Var X_vsq_nu [Vid1, Seg1, Qual2, Node1, UE1] (value 0.0)>,\n",
       " <gurobi.Var X_vsq_nu [Vid1, Seg1, Qual3, Node1, UE1] (value 0.0)>,\n",
       " <gurobi.Var X_vsq_nu [Vid1, Seg1, Qual1, Node1, UE1] (value -0.0)>,\n",
       " <gurobi.Var X_vsq_nu [Vid1, Seg1, Qual4, Node1, UE1] (value 0.0)>,\n",
       " <gurobi.Var X_vsq_nu [Vid1, Seg1, Qual5, Node1, UE1] (value 0.0)>,\n",
       " <gurobi.Var X_vsq_nu [Vid2, Seg1, Qual2, Node1, UE2] (value 0.0)>,\n",
       " <gurobi.Var X_vsq_nu [Vid2, Seg1, Qual3, Node1, UE2] (value 0.0)>,\n",
       " <gurobi.Var X_vsq_nu [Vid2, Seg1, Qual1, Node1, UE2] (value -0.0)>,\n",
       " <gurobi.Var X_vsq_nu [Vid2, Seg1, Qual4, Node1, UE2] (value 0.0)>,\n",
       " <gurobi.Var X_vsq_nu [Vid2, Seg1, Qual5, Node1, UE2] (value 0.0)>,\n",
       " <gurobi.Var X_vsq_nu [Vid1, Seg1, Qual2, Node0, UE1] (value 0.0)>,\n",
       " <gurobi.Var X_vsq_nu [Vid1, Seg1, Qual3, Node0, UE1] (value -0.0)>,\n",
       " <gurobi.Var X_vsq_nu [Vid1, Seg1, Qual1, Node0, UE1] (value -0.0)>,\n",
       " <gurobi.Var X_vsq_nu [Vid1, Seg1, Qual4, Node0, UE1] (value 0.0)>,\n",
       " <gurobi.Var X_vsq_nu [Vid1, Seg1, Qual5, Node0, UE1] (value 0.0)>,\n",
       " <gurobi.Var X_vsq_nu [Vid2, Seg1, Qual2, Node0, UE2] (value 0.0)>,\n",
       " <gurobi.Var X_vsq_nu [Vid2, Seg1, Qual3, Node0, UE2] (value 0.0)>,\n",
       " <gurobi.Var X_vsq_nu [Vid2, Seg1, Qual1, Node0, UE2] (value -0.0)>,\n",
       " <gurobi.Var X_vsq_nu [Vid2, Seg1, Qual4, Node0, UE2] (value -0.0)>,\n",
       " <gurobi.Var X_vsq_nu [Vid2, Seg1, Qual5, Node0, UE2] (value 0.0)>,\n",
       " <gurobi.Var X_vsq_nu [Vid1, Seg1, Qual2, Node3, UE1] (value 0.0)>,\n",
       " <gurobi.Var X_vsq_nu [Vid1, Seg1, Qual3, Node3, UE1] (value -0.0)>,\n",
       " <gurobi.Var X_vsq_nu [Vid1, Seg1, Qual1, Node3, UE1] (value -0.0)>,\n",
       " <gurobi.Var X_vsq_nu [Vid1, Seg1, Qual4, Node3, UE1] (value 0.0)>,\n",
       " <gurobi.Var X_vsq_nu [Vid1, Seg1, Qual5, Node3, UE1] (value 0.0)>,\n",
       " <gurobi.Var X_vsq_nu [Vid2, Seg1, Qual2, Node3, UE2] (value 0.0)>,\n",
       " <gurobi.Var X_vsq_nu [Vid2, Seg1, Qual3, Node3, UE2] (value 0.0)>,\n",
       " <gurobi.Var X_vsq_nu [Vid2, Seg1, Qual1, Node3, UE2] (value -0.0)>,\n",
       " <gurobi.Var X_vsq_nu [Vid2, Seg1, Qual4, Node3, UE2] (value -0.0)>,\n",
       " <gurobi.Var X_vsq_nu [Vid2, Seg1, Qual5, Node3, UE2] (value 0.0)>,\n",
       " <gurobi.Var X_vsq_nu [Vid1, Seg1, Qual2, Node2, UE1] (value 1.0)>,\n",
       " <gurobi.Var X_vsq_nu [Vid1, Seg1, Qual3, Node2, UE1] (value 0.0)>,\n",
       " <gurobi.Var X_vsq_nu [Vid1, Seg1, Qual1, Node2, UE1] (value -0.0)>,\n",
       " <gurobi.Var X_vsq_nu [Vid1, Seg1, Qual4, Node2, UE1] (value 0.0)>,\n",
       " <gurobi.Var X_vsq_nu [Vid1, Seg1, Qual5, Node2, UE1] (value 0.0)>,\n",
       " <gurobi.Var X_vsq_nu [Vid2, Seg1, Qual2, Node2, UE2] (value 0.0)>,\n",
       " <gurobi.Var X_vsq_nu [Vid2, Seg1, Qual3, Node2, UE2] (value 0.0)>,\n",
       " <gurobi.Var X_vsq_nu [Vid2, Seg1, Qual1, Node2, UE2] (value -0.0)>,\n",
       " <gurobi.Var X_vsq_nu [Vid2, Seg1, Qual4, Node2, UE2] (value 0.0)>,\n",
       " <gurobi.Var X_vsq_nu [Vid2, Seg1, Qual5, Node2, UE2] (value 1.0)>,\n",
       " <gurobi.Var X_ebar_e [UE1, ('Node1', 'Node0')] (value -0.0)>,\n",
       " <gurobi.Var X_ebar_e [UE1, ('Node1', 'Node2')] (value -0.0)>,\n",
       " <gurobi.Var X_ebar_e [UE1, ('Node0', 'Node1')] (value -0.0)>,\n",
       " <gurobi.Var X_ebar_e [UE1, ('Node0', 'Node3')] (value -0.0)>,\n",
       " <gurobi.Var X_ebar_e [UE1, ('Node0', 'Node2')] (value -0.0)>,\n",
       " <gurobi.Var X_ebar_e [UE1, ('Node3', 'Node0')] (value -0.0)>,\n",
       " <gurobi.Var X_ebar_e [UE1, ('Node3', 'Node2')] (value -0.0)>,\n",
       " <gurobi.Var X_ebar_e [UE1, ('Node2', 'Node1')] (value -0.0)>,\n",
       " <gurobi.Var X_ebar_e [UE1, ('Node2', 'Node0')] (value -0.0)>,\n",
       " <gurobi.Var X_ebar_e [UE1, ('Node2', 'Node3')] (value -0.0)>,\n",
       " <gurobi.Var X_ebar_e [UE2, ('Node1', 'Node0')] (value -0.0)>,\n",
       " <gurobi.Var X_ebar_e [UE2, ('Node1', 'Node2')] (value -0.0)>,\n",
       " <gurobi.Var X_ebar_e [UE2, ('Node0', 'Node1')] (value -0.0)>,\n",
       " <gurobi.Var X_ebar_e [UE2, ('Node0', 'Node3')] (value -0.0)>,\n",
       " <gurobi.Var X_ebar_e [UE2, ('Node0', 'Node2')] (value -0.0)>,\n",
       " <gurobi.Var X_ebar_e [UE2, ('Node3', 'Node0')] (value -0.0)>,\n",
       " <gurobi.Var X_ebar_e [UE2, ('Node3', 'Node2')] (value -0.0)>,\n",
       " <gurobi.Var X_ebar_e [UE2, ('Node2', 'Node1')] (value -0.0)>,\n",
       " <gurobi.Var X_ebar_e [UE2, ('Node2', 'Node0')] (value -0.0)>,\n",
       " <gurobi.Var X_ebar_e [UE2, ('Node2', 'Node3')] (value -0.0)>]"
      ]
     },
     "execution_count": 77,
     "metadata": {},
     "output_type": "execute_result"
    }
   ],
   "source": [
    "#model.Params.IntFeasTol = 1e-9\n",
    "model.optimize()\n",
    "model.getVars()"
   ]
  },
  {
   "cell_type": "markdown",
   "metadata": {},
   "source": [
    "## <p style=\"text-align:center\" color='red' ><font color='red'> Performance Evaluation </font> </p>\n",
    "   \n"
   ]
  },
  {
   "cell_type": "markdown",
   "metadata": {},
   "source": [
    "# Execution time"
   ]
  },
  {
   "cell_type": "code",
   "execution_count": 78,
   "metadata": {},
   "outputs": [],
   "source": [
    "kpifolder = '/executionTime.txt'\n",
    "filename = '../Results/' + objectiveName + '/executionTime' + kpifolder\n",
    "\n",
    "f = open(filename, 'a+' )\n",
    "f.write(\"Number of Users: \")\n",
    "f.write(repr(n_ue))\n",
    "f.write(\"\\n\\nExecution Time: \")\n",
    "f.write(repr(model.Runtime))\n",
    "f.write(\"\\n****************************\\n\")\n",
    "f.close()    \n"
   ]
  },
  {
   "cell_type": "markdown",
   "metadata": {},
   "source": [
    "# Computig Cache Hit"
   ]
  },
  {
   "cell_type": "code",
   "execution_count": 79,
   "metadata": {},
   "outputs": [],
   "source": [
    "kpifolder = '/cacheHit.txt'\n",
    "filename = '../Results/' + objectiveName + '/cacheHit' + kpifolder \n",
    "\n",
    "cacheHit = 0\n",
    "for u in N_ue:\n",
    "    for h in N_qul:\n",
    "        for n in N_gnb:\n",
    "            if X_vsq_nu[userVidSegQaul[u][0],userVidSegQaul[u][1], h, n, u].X == 1:\n",
    "                cacheHit +=1 \n",
    "                \n",
    "f = open(filename, 'a+' )\n",
    "f.write(\"Number of Users: \")\n",
    "f.write(repr(n_ue))\n",
    "f.write(\"\\n\\nCache Hit at the gNBs: \")\n",
    "f.write(repr(cacheHit))\n",
    "f.write(\"\\n****************************\\n\")\n",
    "f.close()      "
   ]
  },
  {
   "cell_type": "markdown",
   "metadata": {},
   "source": [
    "# Computing Byte Hit"
   ]
  },
  {
   "cell_type": "code",
   "execution_count": 2,
   "metadata": {},
   "outputs": [],
   "source": [
    "# READ: Integrated Prefetching and Caching for Adaptive Video Streaming over HTTP: An Online Approach"
   ]
  },
  {
   "cell_type": "code",
   "execution_count": 3,
   "metadata": {},
   "outputs": [
    {
     "ename": "NameError",
     "evalue": "name 'objectiveName' is not defined",
     "output_type": "error",
     "traceback": [
      "\u001b[0;31m---------------------------------------------------------------------------\u001b[0m",
      "\u001b[0;31mNameError\u001b[0m                                 Traceback (most recent call last)",
      "\u001b[0;32m<ipython-input-3-136d5961c4fc>\u001b[0m in \u001b[0;36m<module>\u001b[0;34m()\u001b[0m\n\u001b[1;32m      1\u001b[0m \u001b[0mkpifolder\u001b[0m \u001b[0;34m=\u001b[0m \u001b[0;34m'/byteHit.txt'\u001b[0m\u001b[0;34m\u001b[0m\u001b[0m\n\u001b[0;32m----> 2\u001b[0;31m \u001b[0mfilename\u001b[0m \u001b[0;34m=\u001b[0m \u001b[0;34m'../Results/'\u001b[0m \u001b[0;34m+\u001b[0m \u001b[0mobjectiveName\u001b[0m \u001b[0;34m+\u001b[0m \u001b[0;34m'/byteHit'\u001b[0m \u001b[0;34m+\u001b[0m \u001b[0mkpifolder\u001b[0m\u001b[0;34m\u001b[0m\u001b[0m\n\u001b[0m\u001b[1;32m      3\u001b[0m \u001b[0;34m\u001b[0m\u001b[0m\n\u001b[1;32m      4\u001b[0m \u001b[0mbyteHit\u001b[0m \u001b[0;34m=\u001b[0m \u001b[0;36m0\u001b[0m\u001b[0;34m\u001b[0m\u001b[0m\n\u001b[1;32m      5\u001b[0m \u001b[0;32mfor\u001b[0m \u001b[0mu\u001b[0m \u001b[0;32min\u001b[0m \u001b[0mN_ue\u001b[0m\u001b[0;34m:\u001b[0m\u001b[0;34m\u001b[0m\u001b[0m\n",
      "\u001b[0;31mNameError\u001b[0m: name 'objectiveName' is not defined"
     ]
    }
   ],
   "source": [
    "kpifolder = '/byteHit.txt'\n",
    "filename = '../Results/' + objectiveName + '/byteHit' + kpifolder \n",
    "\n",
    "byteHit = 0\n",
    "for u in N_ue:\n",
    "    for h in N_qul:\n",
    "        for n in N_gnb:\n",
    "            if X_vsq_nu[userVidSegQaul[u][0],userVidSegQaul[u][1], h, n, u].X == 1:\n",
    "                byteHit += bitrate[h] * segDuration \n",
    "                \n",
    "f = open(filename, 'a+' )\n",
    "f.write(\"Number of Users: \")\n",
    "f.write(repr(n_ue))\n",
    "f.write(\"\\n\\nByte Hit at the gNBs: \")\n",
    "f.write(repr(byteHit))\n",
    "f.write(\"\\n****************************\\n\")\n",
    "f.close()      "
   ]
  },
  {
   "cell_type": "markdown",
   "metadata": {},
   "source": [
    "# Xn Link Utilization"
   ]
  },
  {
   "cell_type": "code",
   "execution_count": 81,
   "metadata": {},
   "outputs": [],
   "source": [
    "kpifolder = '/x2LinkUtilization.txt'\n",
    "filename = '../Results/' + objectiveName + '/x2LinkUtilization' + kpifolder \n",
    "\n",
    "x2LinkUtilization = 0\n",
    "for u in N_ue:\n",
    "    for e in G.edges:\n",
    "        if X_ebar_e[u, e].X == 1:\n",
    "            if e[0] in N_gnb & e[1] in N_gnb:\n",
    "                x2LinkUtilization += size[v, s, q]\n",
    "                \n",
    "f = open(filename, 'a+' )\n",
    "f.write(\"Number of Users: \")\n",
    "f.write(repr(n_ue))\n",
    "f.write(\"\\n\\nx2LinkUtilization: \")\n",
    "f.write(repr(x2LinkUtilization))\n",
    "f.write(\"\\n****************************\\n\")\n",
    "f.close() "
   ]
  },
  {
   "cell_type": "markdown",
   "metadata": {},
   "source": [
    "# Backhaul Link Utilization"
   ]
  },
  {
   "cell_type": "markdown",
   "metadata": {},
   "source": [
    "kpifolder = '/bhLinkUtilization.txt'\n",
    "filename = '../Results/' + objectiveName + '/bhLinkUtilization' + kpifolder \n",
    "\n",
    "bhLinkUtilization = 0\n",
    "for u in N_ue:\n",
    "    for e in G.edges:\n",
    "        if X_ebar_e[u, e].X == 1:\n",
    "            if e[0] not in N_gnb & e[1] not in N_gnb:\n",
    "                bhLinkUtilization += size[v, s, q]\n",
    "                \n",
    "f = open(filename, 'a+' )\n",
    "f.write(\"Number of Users: \")\n",
    "f.write(repr(n_ue))\n",
    "f.write(\"\\n\\nbhLinkUtilization: \")\n",
    "f.write(repr(bhLinkUtilization))\n",
    "f.write(\"\\n****************************\\n\")\n",
    "f.close() "
   ]
  },
  {
   "cell_type": "markdown",
   "metadata": {},
   "source": [
    "# Video Quality and Number of Users"
   ]
  },
  {
   "cell_type": "markdown",
   "metadata": {},
   "source": [
    "Here we compute the number of users that are using a segment quality ex. how many users are using video segment with Q1, Q2, and so on"
   ]
  },
  {
   "cell_type": "markdown",
   "metadata": {},
   "source": [
    "# Number of video segments over all the edge nodes"
   ]
  },
  {
   "cell_type": "markdown",
   "metadata": {},
   "source": [
    "This metric can evaluate the performance of the two algorithms to see their trend in caching videos. We expect that the first objective caches more video segments"
   ]
  },
  {
   "cell_type": "markdown",
   "metadata": {},
   "source": [
    "# Average Bitrate for each user"
   ]
  },
  {
   "cell_type": "code",
   "execution_count": 83,
   "metadata": {},
   "outputs": [],
   "source": [
    "# https://www.youtube.com/watch?v=VSqaw9pyGis"
   ]
  },
  {
   "cell_type": "markdown",
   "metadata": {},
   "source": [
    "\n",
    "# Access Latency"
   ]
  },
  {
   "cell_type": "markdown",
   "metadata": {},
   "source": [
    "The objective of prefetching is to maximize the byte-hit ratio by predicting future requests. To do this, prefetching\n",
    "will fetch uncached data before users actually need it. As a result, the access latency is reduced when the user requests\n",
    "for the prefetched data arrive at proxies, resulting in better user perceived quality. However, prefetching aggressively is\n",
    "a waste of network resources, since the prefetched data may not be actually used as video players are free to switch between different bitrates in HTTP-based adaptive streaming\n",
    "applications."
   ]
  },
  {
   "cell_type": "code",
   "execution_count": 84,
   "metadata": {
    "scrolled": false
   },
   "outputs": [
    {
     "name": "stdout",
     "output_type": "stream",
     "text": [
      "DONE!\n"
     ]
    }
   ],
   "source": [
    "print 'DONE!'"
   ]
  },
  {
   "cell_type": "code",
   "execution_count": null,
   "metadata": {},
   "outputs": [],
   "source": []
  }
 ],
 "metadata": {
  "kernelspec": {
   "display_name": "Python 2",
   "language": "python",
   "name": "python2"
  },
  "language_info": {
   "codemirror_mode": {
    "name": "ipython",
    "version": 2
   },
   "file_extension": ".py",
   "mimetype": "text/x-python",
   "name": "python",
   "nbconvert_exporter": "python",
   "pygments_lexer": "ipython2",
   "version": "2.7.16"
  }
 },
 "nbformat": 4,
 "nbformat_minor": 2
}
