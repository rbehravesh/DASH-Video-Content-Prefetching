{
 "cells": [
  {
   "cell_type": "markdown",
   "metadata": {},
   "source": [
    "# <p style=\"text-align:center\" color='red' ><font color='blue'> Edge-assisted DASH Video Caching in 5G Networks </font> </p>\n"
   ]
  },
  {
   "cell_type": "markdown",
   "metadata": {},
   "source": [
    "# Packages"
   ]
  },
  {
   "cell_type": "code",
   "execution_count": 423,
   "metadata": {},
   "outputs": [],
   "source": [
    "import numpy as np\n",
    "import matplotlib.pyplot as plt\n",
    "import random\n",
    "import itertools\n",
    "import math\n",
    "from scipy.spatial import distance\n",
    "from gurobipy import *\n",
    "import networkx as nx "
   ]
  },
  {
   "cell_type": "code",
   "execution_count": 424,
   "metadata": {},
   "outputs": [],
   "source": [
    "objectiveName = 'Obj-cacheHit'\n",
    "#objectiveName = 'Obj-byteHit'"
   ]
  },
  {
   "cell_type": "markdown",
   "metadata": {},
   "source": [
    "# Data Units"
   ]
  },
  {
   "cell_type": "code",
   "execution_count": 425,
   "metadata": {},
   "outputs": [],
   "source": [
    "Byteps = 8.0#bit\n",
    "Kbps = KB = 1000.0\n",
    "Mbps = MB = 1000000.0\n",
    "Gbps = GB = 1000000000.0\n",
    "GHz = GB = 1000000000.0"
   ]
  },
  {
   "cell_type": "markdown",
   "metadata": {},
   "source": [
    "# <p style=\"text-align:center\" color='red' ><font color='red'>  Substrate Network </font> </p>\n",
    "\n",
    "\n",
    "# Number of resources "
   ]
  },
  {
   "cell_type": "code",
   "execution_count": 426,
   "metadata": {},
   "outputs": [],
   "source": [
    "# Parameters NUMBERS\n",
    "n_gnb = 2 #Number of gNBs nodes (Each gNB is collocated with one MEC node)\n",
    "n_core = 1 #Number of core nodes\n",
    "n = n_gnb + n_core  #Number of nodes in the network (the sumation of gNBs + and core server)\n",
    "\n",
    "n_vids = 2 # Number of videos\n",
    "n_seg = 2 # number of video segments (Videos can be divided into segments with equal duration)\n",
    "n_qul = 5 # Each segment is available in multiple qualities\n",
    "\n",
    "\n",
    "nodeStorCap = 100 * MB\n",
    "x2LinkCap = 3 * Gbps\n",
    "backhaulLinkCap = 2 * Gbps\n"
   ]
  },
  {
   "cell_type": "markdown",
   "metadata": {},
   "source": [
    "# Sets"
   ]
  },
  {
   "cell_type": "code",
   "execution_count": 427,
   "metadata": {},
   "outputs": [],
   "source": [
    "N_gnb  = {'Node'+str(n) for n in range (1, n_gnb + 1)} #Set of gNBs\n",
    "N_core = {'Node'+str(n) for n in range (0, n_core)}  # Set of Video Servers\n",
    "N = N_gnb | N_core # set of all nodes\n",
    "\n",
    "G = nx.Graph(name = 'MNO architectue')  # Network graph\n",
    "G.clear()\n",
    "\n",
    "G.add_nodes_from(N_gnb | N_core)   # Adding nodes to the graph G\n",
    "for i in N_gnb:   # seting storage attribiute for all the nodes\n",
    "    G.nodes[i]['storage'] = nodeStorCap\n",
    "\n",
    "G.add_edges_from((i,j, {'capacity': backhaulLinkCap}) for i in N_core for j in N_gnb) # Adding links from core to the gNBs to the graph G\n",
    "G.add_edges_from((i,j, {'capacity': x2LinkCap}) for i in N_gnb for j in N_gnb if i != j) # Adding links between gNBs (X2) to the graph G\n",
    "\n",
    "N_vids = {'Vid' + str(i) for i in range (1, n_vids+1)} # Set of videos\n",
    "N_seg = {'Seg' + str(i) for i in range (1, n_seg+1)} # Set of segments\n",
    "N_qul = {'Qual' + str(i) for i in range (1, n_qul+1)} # Set of qualities\n",
    "\n",
    "vsqCombinition = [(v, s, q) for v in N_vids for s in N_seg for q in N_qul] # all possible cases for all the videos, segments, and qualities\n",
    "vsq, size, videoBitrate = multidict({ # a dictionary for the size of a video segment in a specific quality \n",
    "    item: [2, 2 * Mbps] for item in vsqCombinition\n",
    "})\n",
    "\n",
    "#Qualities\n",
    "#1080p Q5\n",
    "#720p Q4\n",
    "#480p Q3\n",
    "#360p Q2\n",
    "#2409 Q1\n",
    "\n",
    "qualities, maxTransQual = multidict ({\n",
    "    ('Qual5', 'Qual4'): 2,\n",
    "    ('Qual5', 'Qual3'): 3, \n",
    "    ('Qual5', 'Qual2'): 4, \n",
    "    ('Qual5', 'Qual1'): 6,\n",
    "    ('Qual4', 'Qual3'): 4,\n",
    "    ('Qual4', 'Qual2'): 6,\n",
    "    ('Qual4', 'Qual1'): 9, \n",
    "    ('Qual3', 'Qual2'): 8, \n",
    "    ('Qual3', 'Qual1'): 11,\n",
    "    })\n",
    "\n",
    "\n",
    "user, bsAssociation = multidict({ # a dictionary for the size of a video segment in a specific quality \n",
    "    'UE1' : 1,\n",
    "    'UE2' : 2, \n",
    "})"
   ]
  },
  {
   "cell_type": "markdown",
   "metadata": {},
   "source": [
    "# Virtual Request Set"
   ]
  },
  {
   "cell_type": "code",
   "execution_count": 428,
   "metadata": {},
   "outputs": [],
   "source": [
    "n_ue = 2  #Number of users\n",
    "N_ue = {'UE' + str(i) for i in range (1, n_ue + 1)}"
   ]
  },
  {
   "cell_type": "code",
   "execution_count": 429,
   "metadata": {},
   "outputs": [],
   "source": [
    "user, userBitrate, userVidSegQaul = multidict({ # a dictionary for the size of a video segment in a specific quality \n",
    "    'UE1' : [10 * Mbps, ['Vid1', 'Seg1', 'Qual2']],\n",
    "    'UE2' : [20 * Mbps, ['Vid2', 'Seg1', 'Qual2']], \n",
    "})"
   ]
  },
  {
   "cell_type": "code",
   "execution_count": 430,
   "metadata": {},
   "outputs": [],
   "source": [
    "vsqnuCombinition = [(v, s, h, n ,u) for v in N_vids for s in N_seg for h in N_qul for n in N_gnb for u in N_ue] # all possible cases for all the videos, segments, and qualities\n",
    "vsqnu, weight = multidict({ # a dictionary to sotre the weight (priority) of each video, segment, quality, node, user combanition \n",
    "    item: 1 for item in vsqnuCombinition\n",
    "})"
   ]
  },
  {
   "cell_type": "markdown",
   "metadata": {},
   "source": [
    "# Model"
   ]
  },
  {
   "cell_type": "code",
   "execution_count": 431,
   "metadata": {},
   "outputs": [],
   "source": [
    "model=Model(\"Caching\")\n",
    "model.reset(0)"
   ]
  },
  {
   "cell_type": "markdown",
   "metadata": {},
   "source": [
    "# Variables"
   ]
  },
  {
   "cell_type": "markdown",
   "metadata": {},
   "source": [
    "$\\boldsymbol{\\chi_{n}^{v, s, q}}$  |  Indicates if the quality $q \\in N_{qul}^{v, s}$ of the segment $s \\in N_{seg}^{v}$ of video $v \\in N_{vids}$ has been mapped on the edge node $n \\in N_{gnb}$.\n",
    "\n",
    "$\\boldsymbol{\\chi_{n, u}^{v, s, q}}$  |  Indicates if the quality $q \\in N_{qul}^{v, s}$ of the segment $s \\in N_{seg}^{v}$ of video $v \\in N_{vids}$ has been mapped on the node $n \\in N$ and it is assigned to the UE $u \\in N_{ue}$.\n",
    "\n",
    "$\\boldsymbol{\\chi_{e}^{ \\bar{e}}}$  |  Indicates if the virtual link $\\bar{e} \\in \\bar{E}$ is mapped on the substrate link $e \\in E$."
   ]
  },
  {
   "cell_type": "code",
   "execution_count": null,
   "metadata": {},
   "outputs": [],
   "source": []
  },
  {
   "cell_type": "code",
   "execution_count": 432,
   "metadata": {},
   "outputs": [],
   "source": [
    "X_vsq_n = {}\n",
    "for v in N_vids:\n",
    "    for s in N_seg:\n",
    "        for q in N_qul:\n",
    "            for n in N:\n",
    "                X_vsq_n [v, s, q, n] = model.addVar(vtype = GRB.BINARY, name = 'X_vsq_n [%s, %s, %s, %s]' % (v, s, q, n))\n"
   ]
  },
  {
   "cell_type": "code",
   "execution_count": 433,
   "metadata": {},
   "outputs": [],
   "source": [
    "X_vsq_nu = {}\n",
    "for n in N:\n",
    "    for u in N_ue:\n",
    "        for h in N_qul:\n",
    "            #if h >= userVidSegQaul[u][2]:\n",
    "                X_vsq_nu [userVidSegQaul[u][0],userVidSegQaul[u][1], h, n, u] = \\\n",
    "                model.addVar(vtype = GRB.BINARY, name = 'X_vsq_nu [%s, %s, %s, %s, %s]' % (userVidSegQaul[u][0], \\\n",
    "                userVidSegQaul[u][1],h, n, u))\n"
   ]
  },
  {
   "cell_type": "code",
   "execution_count": 434,
   "metadata": {},
   "outputs": [],
   "source": [
    "X_ebar_e = {} \n",
    "for u in N_ue:\n",
    "    for e in list(G.edges):\n",
    "            X_ebar_e[u, e] = model.addVar(vtype = GRB.BINARY, name = 'X_ebar_e [%s, %s]' % (u, e))\n",
    "\n",
    "                "
   ]
  },
  {
   "cell_type": "markdown",
   "metadata": {},
   "source": [
    "# Objective Functions"
   ]
  },
  {
   "cell_type": "markdown",
   "metadata": {},
   "source": [
    "\\begin{equation}\\label{eq:1}\n",
    "\\boldsymbol{CacheHit:} \\quad Max {\\sum_{u \\in N_{ue}} \\sum _{n \\in N_{gnb}} \\sum _{\\substack{h \\in N_{qul}^{v, s} \\\\ h \\geq q}} \\alpha_{n} \\chi_{n, h}^{u, v, s, q}}\n",
    "\\end{equation}\n"
   ]
  },
  {
   "cell_type": "code",
   "execution_count": 435,
   "metadata": {},
   "outputs": [],
   "source": [
    "#CORRECT\n",
    "if objectiveName == 'Obj-cacheHit':\n",
    "    model.setObjective(quicksum(weight[userVidSegQaul[u][0], userVidSegQaul[u][1], h, n, u] \\\n",
    "                                * X_vsq_nu[userVidSegQaul[u][0],userVidSegQaul[u][1], h, n, u]\\\n",
    "                                for u in N_ue for n in N_gnb for h in N_qul if h >= userVidSegQaul[u][2]) +\n",
    "                               quicksum(X_vsq_n[v, s, q, n] for v in N_vids for s in N_seg for q in N_qul for n in N_core) \\\n",
    "                            - quicksum(X_vsq_n[v, s, q, n] for v in N_vids for s in N_seg for q in N_qul for n in N_gnb), GRB.MAXIMIZE)"
   ]
  },
  {
   "cell_type": "markdown",
   "metadata": {},
   "source": [
    "\\begin{equation}\\label{eq:1}\n",
    "\\boldsymbol{ByteHit:} \\quad Max {\\sum_{u \\in N_{ue}} \\sum _{n \\in N_{gnb}} \\sum _{\\substack{h \\in N_{qul}^{v, s} \\\\ h \\geq q}} \\alpha_{n} \\chi_{n, h}^{u, v, s, q} \\varphi^{v, s, q}}\n",
    "\\end{equation}"
   ]
  },
  {
   "cell_type": "code",
   "execution_count": 436,
   "metadata": {},
   "outputs": [],
   "source": [
    "# if objectiveName == 'Obj-byteHit':\n",
    "#     model.setObjective(quicksum(weight[userVidSegQaul[u][0],userVidSegQaul[u][1], h,n, u]\\\n",
    "#                     * size[userVidSegQaul[u][0],userVidSegQaul[u][1], userVidSegQaul[u][2]]* X_vsq_nu[u, n, h] for n in N_gnb for h in N_qul if h > q), GRB.MAXIMIZE)"
   ]
  },
  {
   "cell_type": "markdown",
   "metadata": {},
   "source": [
    "# Costraints"
   ]
  },
  {
   "cell_type": "markdown",
   "metadata": {},
   "source": [
    "The first constraint ensures that the storage capacity of the edge nodes are respected and the amount of storage used for storing the videos is less than or equal to the maximum storage capacity of the nodes.\n",
    "\n",
    "\\begin{equation}\\label{eq:3}\n",
    " {\\forall n \\in N_{gnb}: \\sum_{v \\in N_{vids}^{u}} \\sum_{s \\in N_{seg}^{u, v}} \\sum_{q \\in N_{qul}^{u, v, s}} \\chi_{n}^{v, s, q} \\varphi^{v, s, q} \\leq \\mathcal{C}_{stor}(n)}\n",
    "\\end{equation}"
   ]
  },
  {
   "cell_type": "code",
   "execution_count": 437,
   "metadata": {},
   "outputs": [],
   "source": [
    "#CORECT\n",
    "for n in N_gnb:\n",
    "    model.addConstr(quicksum(size[v, s, q] * X_vsq_n[v, s, q, n] for v in N_vids for s in N_seg for q in N_qul) \\\n",
    "                             <= G.nodes[n]['storage'] , name=\"C3\")"
   ]
  },
  {
   "cell_type": "markdown",
   "metadata": {},
   "source": [
    "At any given time, each user should be provided with one video representation (video, segment, quality) that is requesting.\n",
    "\n",
    "\\begin{equation}\n",
    "{\\forall u \\in \\bar{N}_{ue} \\sum_{n \\in N} \\sum _{\\substack{h \\in N_{qul}^{v, s} \\\\ h \\geq q}}:  \\chi_{n, u}^{v, s, h} \\leq 1}\n",
    "\\end{equation}\n",
    "\n"
   ]
  },
  {
   "cell_type": "code",
   "execution_count": 438,
   "metadata": {},
   "outputs": [],
   "source": [
    "#CORRECT\n",
    "for u in N_ue:\n",
    "       model.addConstr(quicksum(X_vsq_nu[userVidSegQaul[u][0],userVidSegQaul[u][1], h, n, u] \\\n",
    "                    for n in G.nodes for h in N_qul if h >= userVidSegQaul[u][2] ) <= 1, name=\"C4\")"
   ]
  },
  {
   "cell_type": "markdown",
   "metadata": {},
   "source": [
    "The following constraint guarantees that a video is feteched to the edge only if at least one user hase been serving from the video chunk or at least one user is requesting the video chunck.\n",
    "\n",
    "\\begin{equation}\\label{eq:7}\n",
    "{\\forall n \\in N, \\forall h \\in N_{qual} h>=q: \\sum_{u \\in \\bar{N}_{ue}}\\chi^{v, s, h}_{u, n} - \\mu* \\chi^{v, s, h}_{n} \\leq 0}\n",
    "\\end{equation}"
   ]
  },
  {
   "cell_type": "code",
   "execution_count": 253,
   "metadata": {
    "scrolled": true
   },
   "outputs": [
    {
     "data": {
      "text/plain": [
       "{'UE1': ['Vid1', 'Seg1', 'Qual2'], 'UE2': ['Vid2', 'Seg1', 'Qual2']}"
      ]
     },
     "execution_count": 253,
     "metadata": {},
     "output_type": "execute_result"
    }
   ],
   "source": [
    "userVidSegQaul"
   ]
  },
  {
   "cell_type": "code",
   "execution_count": 254,
   "metadata": {},
   "outputs": [
    {
     "name": "stdout",
     "output_type": "stream",
     "text": [
      "UE1\n",
      "UE2\n"
     ]
    }
   ],
   "source": [
    "for i in userVidSegQaul:\n",
    "    print i"
   ]
  },
  {
   "cell_type": "code",
   "execution_count": 439,
   "metadata": {
    "scrolled": true
   },
   "outputs": [],
   "source": [
    "# for n in N_gnb:\n",
    "#     for u in N_ue:\n",
    "#         for h in N_qul:\n",
    "#             if h >= userVidSegQaul[u][2]:\n",
    "#                 model.addConstr(X_vsq_nu[userVidSegQaul[u][0],userVidSegQaul[u][1], h, n, u] - \\\n",
    "#                               X_vsq_n[userVidSegQaul[u][0], userVidSegQaul[u][1], h, n] == 0 , name = \"XX\" )"
   ]
  },
  {
   "cell_type": "code",
   "execution_count": 262,
   "metadata": {},
   "outputs": [
    {
     "data": {
      "text/plain": [
       "<gurobi.Var X_vsq_nu [Vid1, Seg1, Qual2, Node1, UE1] (value 0.0)>"
      ]
     },
     "execution_count": 262,
     "metadata": {},
     "output_type": "execute_result"
    }
   ],
   "source": [
    "X_vsq_nu[userVidSegQaul[u][0],userVidSegQaul[u][1], h, n, u]"
   ]
  },
  {
   "cell_type": "code",
   "execution_count": 440,
   "metadata": {
    "scrolled": true
   },
   "outputs": [],
   "source": [
    "# M = 100\n",
    "# for n in N_gnb:\n",
    "#     for virl in userVidSegQaul:\n",
    "#         for h in N_qul:\n",
    "#                  model.addConstr(quicksum(X_vsq_nu[userVidSegQaul[virl][0],userVidSegQaul[virl][1], h, n, u] \\\n",
    "#                  - M * X_vsq_n[userVidSegQaul[virl][0],userVidSegQaul[virl][1], h , n] for u in N_ue if userVidSegQaul[virl][0] == userVidSegQaul[u][0]) <= 0 , name = \"C8\")"
   ]
  },
  {
   "cell_type": "code",
   "execution_count": 329,
   "metadata": {},
   "outputs": [
    {
     "data": {
      "text/plain": [
       "{'UE1': ['Vid1', 'Seg1', 'Qual2'], 'UE2': ['Vid2', 'Seg1', 'Qual2']}"
      ]
     },
     "execution_count": 329,
     "metadata": {},
     "output_type": "execute_result"
    }
   ],
   "source": [
    "userVidSegQaul"
   ]
  },
  {
   "cell_type": "code",
   "execution_count": 441,
   "metadata": {},
   "outputs": [
    {
     "name": "stdout",
     "output_type": "stream",
     "text": [
      "Optimize a model with 4 rows, 96 columns and 64 nonzeros\n",
      "Variable types: 0 continuous, 96 integer (96 binary)\n",
      "Coefficient statistics:\n",
      "  Matrix range     [1e+00, 2e+00]\n",
      "  Objective range  [1e+00, 1e+00]\n",
      "  Bounds range     [1e+00, 1e+00]\n",
      "  RHS range        [1e+00, 1e+08]\n",
      "Found heuristic solution: objective 22.0000000\n",
      "Presolve removed 4 rows and 96 columns\n",
      "Presolve time: 0.00s\n",
      "Presolve: All rows and columns removed\n",
      "\n",
      "Explored 0 nodes (0 simplex iterations) in 0.01 seconds\n",
      "Thread count was 1 (of 4 available processors)\n",
      "\n",
      "Solution count 1: 22 \n",
      "\n",
      "Optimal solution found (tolerance 1.00e-04)\n",
      "Best objective 2.200000000000e+01, best bound 2.200000000000e+01, gap 0.0000%\n"
     ]
    },
    {
     "data": {
      "text/plain": [
       "[<gurobi.Var X_vsq_n [Vid2, Seg1, Qual2, Node1] (value 0.0)>,\n",
       " <gurobi.Var X_vsq_n [Vid2, Seg1, Qual2, Node0] (value 1.0)>,\n",
       " <gurobi.Var X_vsq_n [Vid2, Seg1, Qual2, Node2] (value 0.0)>,\n",
       " <gurobi.Var X_vsq_n [Vid2, Seg1, Qual3, Node1] (value 0.0)>,\n",
       " <gurobi.Var X_vsq_n [Vid2, Seg1, Qual3, Node0] (value 1.0)>,\n",
       " <gurobi.Var X_vsq_n [Vid2, Seg1, Qual3, Node2] (value 0.0)>,\n",
       " <gurobi.Var X_vsq_n [Vid2, Seg1, Qual1, Node1] (value 0.0)>,\n",
       " <gurobi.Var X_vsq_n [Vid2, Seg1, Qual1, Node0] (value 1.0)>,\n",
       " <gurobi.Var X_vsq_n [Vid2, Seg1, Qual1, Node2] (value 0.0)>,\n",
       " <gurobi.Var X_vsq_n [Vid2, Seg1, Qual4, Node1] (value 0.0)>,\n",
       " <gurobi.Var X_vsq_n [Vid2, Seg1, Qual4, Node0] (value 1.0)>,\n",
       " <gurobi.Var X_vsq_n [Vid2, Seg1, Qual4, Node2] (value 0.0)>,\n",
       " <gurobi.Var X_vsq_n [Vid2, Seg1, Qual5, Node1] (value 0.0)>,\n",
       " <gurobi.Var X_vsq_n [Vid2, Seg1, Qual5, Node0] (value 1.0)>,\n",
       " <gurobi.Var X_vsq_n [Vid2, Seg1, Qual5, Node2] (value 0.0)>,\n",
       " <gurobi.Var X_vsq_n [Vid2, Seg2, Qual2, Node1] (value 0.0)>,\n",
       " <gurobi.Var X_vsq_n [Vid2, Seg2, Qual2, Node0] (value 1.0)>,\n",
       " <gurobi.Var X_vsq_n [Vid2, Seg2, Qual2, Node2] (value 0.0)>,\n",
       " <gurobi.Var X_vsq_n [Vid2, Seg2, Qual3, Node1] (value 0.0)>,\n",
       " <gurobi.Var X_vsq_n [Vid2, Seg2, Qual3, Node0] (value 1.0)>,\n",
       " <gurobi.Var X_vsq_n [Vid2, Seg2, Qual3, Node2] (value 0.0)>,\n",
       " <gurobi.Var X_vsq_n [Vid2, Seg2, Qual1, Node1] (value 0.0)>,\n",
       " <gurobi.Var X_vsq_n [Vid2, Seg2, Qual1, Node0] (value 1.0)>,\n",
       " <gurobi.Var X_vsq_n [Vid2, Seg2, Qual1, Node2] (value 0.0)>,\n",
       " <gurobi.Var X_vsq_n [Vid2, Seg2, Qual4, Node1] (value 0.0)>,\n",
       " <gurobi.Var X_vsq_n [Vid2, Seg2, Qual4, Node0] (value 1.0)>,\n",
       " <gurobi.Var X_vsq_n [Vid2, Seg2, Qual4, Node2] (value 0.0)>,\n",
       " <gurobi.Var X_vsq_n [Vid2, Seg2, Qual5, Node1] (value 0.0)>,\n",
       " <gurobi.Var X_vsq_n [Vid2, Seg2, Qual5, Node0] (value 1.0)>,\n",
       " <gurobi.Var X_vsq_n [Vid2, Seg2, Qual5, Node2] (value 0.0)>,\n",
       " <gurobi.Var X_vsq_n [Vid1, Seg1, Qual2, Node1] (value 0.0)>,\n",
       " <gurobi.Var X_vsq_n [Vid1, Seg1, Qual2, Node0] (value 1.0)>,\n",
       " <gurobi.Var X_vsq_n [Vid1, Seg1, Qual2, Node2] (value 0.0)>,\n",
       " <gurobi.Var X_vsq_n [Vid1, Seg1, Qual3, Node1] (value 0.0)>,\n",
       " <gurobi.Var X_vsq_n [Vid1, Seg1, Qual3, Node0] (value 1.0)>,\n",
       " <gurobi.Var X_vsq_n [Vid1, Seg1, Qual3, Node2] (value 0.0)>,\n",
       " <gurobi.Var X_vsq_n [Vid1, Seg1, Qual1, Node1] (value 0.0)>,\n",
       " <gurobi.Var X_vsq_n [Vid1, Seg1, Qual1, Node0] (value 1.0)>,\n",
       " <gurobi.Var X_vsq_n [Vid1, Seg1, Qual1, Node2] (value 0.0)>,\n",
       " <gurobi.Var X_vsq_n [Vid1, Seg1, Qual4, Node1] (value 0.0)>,\n",
       " <gurobi.Var X_vsq_n [Vid1, Seg1, Qual4, Node0] (value 1.0)>,\n",
       " <gurobi.Var X_vsq_n [Vid1, Seg1, Qual4, Node2] (value 0.0)>,\n",
       " <gurobi.Var X_vsq_n [Vid1, Seg1, Qual5, Node1] (value 0.0)>,\n",
       " <gurobi.Var X_vsq_n [Vid1, Seg1, Qual5, Node0] (value 1.0)>,\n",
       " <gurobi.Var X_vsq_n [Vid1, Seg1, Qual5, Node2] (value 0.0)>,\n",
       " <gurobi.Var X_vsq_n [Vid1, Seg2, Qual2, Node1] (value 0.0)>,\n",
       " <gurobi.Var X_vsq_n [Vid1, Seg2, Qual2, Node0] (value 1.0)>,\n",
       " <gurobi.Var X_vsq_n [Vid1, Seg2, Qual2, Node2] (value 0.0)>,\n",
       " <gurobi.Var X_vsq_n [Vid1, Seg2, Qual3, Node1] (value 0.0)>,\n",
       " <gurobi.Var X_vsq_n [Vid1, Seg2, Qual3, Node0] (value 1.0)>,\n",
       " <gurobi.Var X_vsq_n [Vid1, Seg2, Qual3, Node2] (value 0.0)>,\n",
       " <gurobi.Var X_vsq_n [Vid1, Seg2, Qual1, Node1] (value 0.0)>,\n",
       " <gurobi.Var X_vsq_n [Vid1, Seg2, Qual1, Node0] (value 1.0)>,\n",
       " <gurobi.Var X_vsq_n [Vid1, Seg2, Qual1, Node2] (value 0.0)>,\n",
       " <gurobi.Var X_vsq_n [Vid1, Seg2, Qual4, Node1] (value 0.0)>,\n",
       " <gurobi.Var X_vsq_n [Vid1, Seg2, Qual4, Node0] (value 1.0)>,\n",
       " <gurobi.Var X_vsq_n [Vid1, Seg2, Qual4, Node2] (value 0.0)>,\n",
       " <gurobi.Var X_vsq_n [Vid1, Seg2, Qual5, Node1] (value 0.0)>,\n",
       " <gurobi.Var X_vsq_n [Vid1, Seg2, Qual5, Node0] (value 1.0)>,\n",
       " <gurobi.Var X_vsq_n [Vid1, Seg2, Qual5, Node2] (value 0.0)>,\n",
       " <gurobi.Var X_vsq_nu [Vid1, Seg1, Qual2, Node1, UE1] (value 0.0)>,\n",
       " <gurobi.Var X_vsq_nu [Vid1, Seg1, Qual3, Node1, UE1] (value 0.0)>,\n",
       " <gurobi.Var X_vsq_nu [Vid1, Seg1, Qual1, Node1, UE1] (value 0.0)>,\n",
       " <gurobi.Var X_vsq_nu [Vid1, Seg1, Qual4, Node1, UE1] (value 1.0)>,\n",
       " <gurobi.Var X_vsq_nu [Vid1, Seg1, Qual5, Node1, UE1] (value 0.0)>,\n",
       " <gurobi.Var X_vsq_nu [Vid2, Seg1, Qual2, Node1, UE2] (value 0.0)>,\n",
       " <gurobi.Var X_vsq_nu [Vid2, Seg1, Qual3, Node1, UE2] (value 0.0)>,\n",
       " <gurobi.Var X_vsq_nu [Vid2, Seg1, Qual1, Node1, UE2] (value 0.0)>,\n",
       " <gurobi.Var X_vsq_nu [Vid2, Seg1, Qual4, Node1, UE2] (value 1.0)>,\n",
       " <gurobi.Var X_vsq_nu [Vid2, Seg1, Qual5, Node1, UE2] (value 0.0)>,\n",
       " <gurobi.Var X_vsq_nu [Vid1, Seg1, Qual2, Node0, UE1] (value 0.0)>,\n",
       " <gurobi.Var X_vsq_nu [Vid1, Seg1, Qual3, Node0, UE1] (value 0.0)>,\n",
       " <gurobi.Var X_vsq_nu [Vid1, Seg1, Qual1, Node0, UE1] (value 0.0)>,\n",
       " <gurobi.Var X_vsq_nu [Vid1, Seg1, Qual4, Node0, UE1] (value 0.0)>,\n",
       " <gurobi.Var X_vsq_nu [Vid1, Seg1, Qual5, Node0, UE1] (value 0.0)>,\n",
       " <gurobi.Var X_vsq_nu [Vid2, Seg1, Qual2, Node0, UE2] (value 0.0)>,\n",
       " <gurobi.Var X_vsq_nu [Vid2, Seg1, Qual3, Node0, UE2] (value 0.0)>,\n",
       " <gurobi.Var X_vsq_nu [Vid2, Seg1, Qual1, Node0, UE2] (value 0.0)>,\n",
       " <gurobi.Var X_vsq_nu [Vid2, Seg1, Qual4, Node0, UE2] (value 0.0)>,\n",
       " <gurobi.Var X_vsq_nu [Vid2, Seg1, Qual5, Node0, UE2] (value 0.0)>,\n",
       " <gurobi.Var X_vsq_nu [Vid1, Seg1, Qual2, Node2, UE1] (value 0.0)>,\n",
       " <gurobi.Var X_vsq_nu [Vid1, Seg1, Qual3, Node2, UE1] (value 0.0)>,\n",
       " <gurobi.Var X_vsq_nu [Vid1, Seg1, Qual1, Node2, UE1] (value 0.0)>,\n",
       " <gurobi.Var X_vsq_nu [Vid1, Seg1, Qual4, Node2, UE1] (value 0.0)>,\n",
       " <gurobi.Var X_vsq_nu [Vid1, Seg1, Qual5, Node2, UE1] (value 0.0)>,\n",
       " <gurobi.Var X_vsq_nu [Vid2, Seg1, Qual2, Node2, UE2] (value 0.0)>,\n",
       " <gurobi.Var X_vsq_nu [Vid2, Seg1, Qual3, Node2, UE2] (value 0.0)>,\n",
       " <gurobi.Var X_vsq_nu [Vid2, Seg1, Qual1, Node2, UE2] (value 0.0)>,\n",
       " <gurobi.Var X_vsq_nu [Vid2, Seg1, Qual4, Node2, UE2] (value 0.0)>,\n",
       " <gurobi.Var X_vsq_nu [Vid2, Seg1, Qual5, Node2, UE2] (value 0.0)>,\n",
       " <gurobi.Var X_ebar_e [UE1, ('Node1', 'Node0')] (value 0.0)>,\n",
       " <gurobi.Var X_ebar_e [UE1, ('Node1', 'Node2')] (value 0.0)>,\n",
       " <gurobi.Var X_ebar_e [UE1, ('Node0', 'Node2')] (value 0.0)>,\n",
       " <gurobi.Var X_ebar_e [UE2, ('Node1', 'Node0')] (value 0.0)>,\n",
       " <gurobi.Var X_ebar_e [UE2, ('Node1', 'Node2')] (value 0.0)>,\n",
       " <gurobi.Var X_ebar_e [UE2, ('Node0', 'Node2')] (value 0.0)>]"
      ]
     },
     "execution_count": 441,
     "metadata": {},
     "output_type": "execute_result"
    }
   ],
   "source": [
    "#model.Params.IntFeasTol = 1e-9\n",
    "model.optimize()\n",
    "model.getVars()"
   ]
  },
  {
   "cell_type": "code",
   "execution_count": 442,
   "metadata": {},
   "outputs": [],
   "source": [
    "for n in N:\n",
    "    for v in N_vids:\n",
    "        for s in N_seg:\n",
    "            for h in N_qul:\n",
    "                model.addConstr(quicksum(X_vsq_nu[v, s, h, n, u] - M * X_vsq_n[v, s, h, n] for u in N_ue if v == userVidSegQaul[u][0] if s == userVidSegQaul[u][1]) <= 0, name = \"CX\")"
   ]
  },
  {
   "cell_type": "code",
   "execution_count": null,
   "metadata": {},
   "outputs": [],
   "source": []
  },
  {
   "cell_type": "markdown",
   "metadata": {},
   "source": [
    "this Constraint ensures that the virtual links can be mapped onto a substrate link as long as the link has sufficient capacity:\n",
    "\\begin{equation}\\label{eq:5}\n",
    " { \\forall e \\in E: \\sum_{\\bar{e} \\in \\bar{E}}\\chi_{e}^{ \\bar{e}}  \\omega^{\\bar{e}}_{bwt}  \\leq \\mathcal{C}^{e}_{bwt}}\n",
    "\\end{equation}\n"
   ]
  },
  {
   "cell_type": "code",
   "execution_count": 443,
   "metadata": {
    "scrolled": true
   },
   "outputs": [],
   "source": [
    "# for e in G.edges:\n",
    "#     model.addConstr(quicksum(X_ebar_e[u, e] * userBitrate[u] for u in N_ue) \\\n",
    "#                     <=  G.edges[(e)]['capacity'], name = \"C5\")"
   ]
  },
  {
   "cell_type": "markdown",
   "metadata": {},
   "source": [
    "This Constraint enforces for each UE $u \\in \\bar{N}_{ue}$ and quality $q \\in N_{qul}^{v, s}$ of segment $s \\in N_{seg}^{v}$ of the video $v \\in N_{vids}^{}$ be a continuous path established between the gNB hosting the UE and the gNB providing  the  requested  file.\n",
    "\n",
    "\\begin{equation}\\label{eq:6}\n",
    "\\begin{split}\n",
    "&{n \\in N, \\forall e^{u, q} \\in \\bar{E}:} \\\\\n",
    "&  \\sum_{e \\in E^{n \\rightarrow}} \\chi^{e^{u, q}}_{e} -\n",
    "\\sum_{e \\in E^{\\rightarrow n}} \\chi^{e^{u, q}}_{e} = \\left \\{\n",
    "\\begin{aligned}\n",
    "&-1 && \\text{if}\\ n = u \\\\\n",
    "&1 && \\text{if}\\ n = q \\\\\n",
    "&0 && \\text{otherwise} \n",
    "\\end{aligned} \\right.\n",
    "\\end{split}\n",
    "\\end{equation}\n",
    "where $E^{n \\rightarrow}$ represents the links originating from node $n \\in N$, while $E^{\\rightarrow n}$ represents all the links entering node $n \\in N$."
   ]
  },
  {
   "cell_type": "code",
   "execution_count": 444,
   "metadata": {},
   "outputs": [],
   "source": [
    "# for u in N_ue: \n",
    "#         for n in N:\n",
    "#             if n in N_gnb:\n",
    "#                 if bsAssociation[u] == n:\n",
    "#                     xx = 1\n",
    "#                 else:\n",
    "#                     xx = 0\n",
    "#                 model.addConstr(-1 * xx + X_vsq_nu[userVidSegQaul[u][0],userVidSegQaul[u][1], userVidSegQaul[u][2], n, u] \\\n",
    "#                    + quicksum(X_ebar_e[u, e] for e in G.edges if e[0] == n ) - \\\n",
    "#                      quicksum(X_ebar_e[u, e] for e in G.edges if e[1] == n ) == 0, name =\"RR\")         \n",
    "#             else:\n",
    "#                  model.addConstr(X_vsq_nu[userVidSegQaul[u][0],userVidSegQaul[u][1], userVidSegQaul[u][2], n, u] \\\n",
    "#                    + quicksum(X_ebar_e[u, e] for e in G.edges if e[0] == n ) - \\\n",
    "#                      quicksum(X_ebar_e[u, e] for e in G.edges if e[1] == n ) == 0, name =\"RR\")         \n"
   ]
  },
  {
   "cell_type": "markdown",
   "metadata": {},
   "source": [
    "Video transcoding refers to the process of taking an existing video file (or ongoing stream) and re-encoding it with a different codec or different settings to make it to a lower bit-rate (quality) version. With this constraint we are setting limits over the maximum possible number of videos that can be transcoded from a video segment with quality $h \\in N_{qul}^{v, s}$ to a lower bitrate $q \\in N_{qul}^{v, s}$ that is requested by the user.\n",
    "\\begin{equation}\\label{eq:4}\n",
    " {\\forall n \\in N_{gnb}:\\sum_{u \\in \\bar{N}_{ue}} \\sum _{\\substack{h \\in N_{qul}^{v, s} \\\\ h > q}} \\chi_{n, u}^{v, s, h} - \\Upsilon(h, q, n)\\leq 0 }\n",
    "\\end{equation}\n",
    "\n"
   ]
  },
  {
   "cell_type": "code",
   "execution_count": 445,
   "metadata": {},
   "outputs": [],
   "source": [
    "# for n in G.nodes:\n",
    "#     if n in N_gnb:\n",
    "#         model.addConstr(quicksum(X_vsq_nu[userVidSegQaul[u][0],userVidSegQaul[u][1], h, n, u] \\\n",
    "#             for u in N_ue for h in N_qul if h > userVidSegQaul[u][2]) - maxTransQual[h, userVidSegQaul[u][2]] <= 0 , name = \"C7\")"
   ]
  },
  {
   "cell_type": "markdown",
   "metadata": {},
   "source": [
    "++ A video should be cahced if there is request for that video segment. "
   ]
  },
  {
   "cell_type": "markdown",
   "metadata": {},
   "source": [
    "# Model Optimization"
   ]
  },
  {
   "cell_type": "code",
   "execution_count": 421,
   "metadata": {},
   "outputs": [
    {
     "data": {
      "text/plain": [
       "{'UE1': ['Vid1', 'Seg1', 'Qual2'], 'UE2': ['Vid2', 'Seg1', 'Qual2']}"
      ]
     },
     "execution_count": 421,
     "metadata": {},
     "output_type": "execute_result"
    }
   ],
   "source": [
    "userVidSegQaul"
   ]
  },
  {
   "cell_type": "code",
   "execution_count": 446,
   "metadata": {
    "scrolled": true
   },
   "outputs": [
    {
     "name": "stdout",
     "output_type": "stream",
     "text": [
      "Optimize a model with 64 rows, 96 columns and 124 nonzeros\n",
      "Variable types: 0 continuous, 96 integer (96 binary)\n",
      "Coefficient statistics:\n",
      "  Matrix range     [1e+00, 1e+02]\n",
      "  Objective range  [1e+00, 1e+00]\n",
      "  Bounds range     [1e+00, 1e+00]\n",
      "  RHS range        [1e+00, 1e+08]\n",
      "\n",
      "MIP start did not produce a new incumbent solution\n",
      "MIP start violates constraint CX by 1.000000000\n",
      "\n",
      "Found heuristic solution: objective 20.0000000\n",
      "Presolve removed 64 rows and 96 columns\n",
      "Presolve time: 0.00s\n",
      "Presolve: All rows and columns removed\n",
      "\n",
      "Explored 0 nodes (0 simplex iterations) in 0.03 seconds\n",
      "Thread count was 1 (of 4 available processors)\n",
      "\n",
      "Solution count 1: 20 \n",
      "\n",
      "Optimal solution found (tolerance 1.00e-04)\n",
      "Best objective 2.000000000000e+01, best bound 2.000000000000e+01, gap 0.0000%\n"
     ]
    },
    {
     "data": {
      "text/plain": [
       "[<gurobi.Var X_vsq_n [Vid2, Seg1, Qual2, Node1] (value 0.0)>,\n",
       " <gurobi.Var X_vsq_n [Vid2, Seg1, Qual2, Node0] (value 1.0)>,\n",
       " <gurobi.Var X_vsq_n [Vid2, Seg1, Qual2, Node2] (value 0.0)>,\n",
       " <gurobi.Var X_vsq_n [Vid2, Seg1, Qual3, Node1] (value 0.0)>,\n",
       " <gurobi.Var X_vsq_n [Vid2, Seg1, Qual3, Node0] (value 1.0)>,\n",
       " <gurobi.Var X_vsq_n [Vid2, Seg1, Qual3, Node2] (value 0.0)>,\n",
       " <gurobi.Var X_vsq_n [Vid2, Seg1, Qual1, Node1] (value 0.0)>,\n",
       " <gurobi.Var X_vsq_n [Vid2, Seg1, Qual1, Node0] (value 1.0)>,\n",
       " <gurobi.Var X_vsq_n [Vid2, Seg1, Qual1, Node2] (value 0.0)>,\n",
       " <gurobi.Var X_vsq_n [Vid2, Seg1, Qual4, Node1] (value 0.0)>,\n",
       " <gurobi.Var X_vsq_n [Vid2, Seg1, Qual4, Node0] (value 1.0)>,\n",
       " <gurobi.Var X_vsq_n [Vid2, Seg1, Qual4, Node2] (value 0.0)>,\n",
       " <gurobi.Var X_vsq_n [Vid2, Seg1, Qual5, Node1] (value 0.0)>,\n",
       " <gurobi.Var X_vsq_n [Vid2, Seg1, Qual5, Node0] (value 1.0)>,\n",
       " <gurobi.Var X_vsq_n [Vid2, Seg1, Qual5, Node2] (value 0.0)>,\n",
       " <gurobi.Var X_vsq_n [Vid2, Seg2, Qual2, Node1] (value 0.0)>,\n",
       " <gurobi.Var X_vsq_n [Vid2, Seg2, Qual2, Node0] (value 1.0)>,\n",
       " <gurobi.Var X_vsq_n [Vid2, Seg2, Qual2, Node2] (value 0.0)>,\n",
       " <gurobi.Var X_vsq_n [Vid2, Seg2, Qual3, Node1] (value 0.0)>,\n",
       " <gurobi.Var X_vsq_n [Vid2, Seg2, Qual3, Node0] (value 1.0)>,\n",
       " <gurobi.Var X_vsq_n [Vid2, Seg2, Qual3, Node2] (value 0.0)>,\n",
       " <gurobi.Var X_vsq_n [Vid2, Seg2, Qual1, Node1] (value 0.0)>,\n",
       " <gurobi.Var X_vsq_n [Vid2, Seg2, Qual1, Node0] (value 1.0)>,\n",
       " <gurobi.Var X_vsq_n [Vid2, Seg2, Qual1, Node2] (value 0.0)>,\n",
       " <gurobi.Var X_vsq_n [Vid2, Seg2, Qual4, Node1] (value 0.0)>,\n",
       " <gurobi.Var X_vsq_n [Vid2, Seg2, Qual4, Node0] (value 1.0)>,\n",
       " <gurobi.Var X_vsq_n [Vid2, Seg2, Qual4, Node2] (value 0.0)>,\n",
       " <gurobi.Var X_vsq_n [Vid2, Seg2, Qual5, Node1] (value 0.0)>,\n",
       " <gurobi.Var X_vsq_n [Vid2, Seg2, Qual5, Node0] (value 1.0)>,\n",
       " <gurobi.Var X_vsq_n [Vid2, Seg2, Qual5, Node2] (value 0.0)>,\n",
       " <gurobi.Var X_vsq_n [Vid1, Seg1, Qual2, Node1] (value 0.0)>,\n",
       " <gurobi.Var X_vsq_n [Vid1, Seg1, Qual2, Node0] (value 1.0)>,\n",
       " <gurobi.Var X_vsq_n [Vid1, Seg1, Qual2, Node2] (value 0.0)>,\n",
       " <gurobi.Var X_vsq_n [Vid1, Seg1, Qual3, Node1] (value 0.0)>,\n",
       " <gurobi.Var X_vsq_n [Vid1, Seg1, Qual3, Node0] (value 1.0)>,\n",
       " <gurobi.Var X_vsq_n [Vid1, Seg1, Qual3, Node2] (value 0.0)>,\n",
       " <gurobi.Var X_vsq_n [Vid1, Seg1, Qual1, Node1] (value 0.0)>,\n",
       " <gurobi.Var X_vsq_n [Vid1, Seg1, Qual1, Node0] (value 1.0)>,\n",
       " <gurobi.Var X_vsq_n [Vid1, Seg1, Qual1, Node2] (value 0.0)>,\n",
       " <gurobi.Var X_vsq_n [Vid1, Seg1, Qual4, Node1] (value 0.0)>,\n",
       " <gurobi.Var X_vsq_n [Vid1, Seg1, Qual4, Node0] (value 1.0)>,\n",
       " <gurobi.Var X_vsq_n [Vid1, Seg1, Qual4, Node2] (value 0.0)>,\n",
       " <gurobi.Var X_vsq_n [Vid1, Seg1, Qual5, Node1] (value 0.0)>,\n",
       " <gurobi.Var X_vsq_n [Vid1, Seg1, Qual5, Node0] (value 1.0)>,\n",
       " <gurobi.Var X_vsq_n [Vid1, Seg1, Qual5, Node2] (value 0.0)>,\n",
       " <gurobi.Var X_vsq_n [Vid1, Seg2, Qual2, Node1] (value 0.0)>,\n",
       " <gurobi.Var X_vsq_n [Vid1, Seg2, Qual2, Node0] (value 1.0)>,\n",
       " <gurobi.Var X_vsq_n [Vid1, Seg2, Qual2, Node2] (value 0.0)>,\n",
       " <gurobi.Var X_vsq_n [Vid1, Seg2, Qual3, Node1] (value 0.0)>,\n",
       " <gurobi.Var X_vsq_n [Vid1, Seg2, Qual3, Node0] (value 1.0)>,\n",
       " <gurobi.Var X_vsq_n [Vid1, Seg2, Qual3, Node2] (value 0.0)>,\n",
       " <gurobi.Var X_vsq_n [Vid1, Seg2, Qual1, Node1] (value 0.0)>,\n",
       " <gurobi.Var X_vsq_n [Vid1, Seg2, Qual1, Node0] (value 1.0)>,\n",
       " <gurobi.Var X_vsq_n [Vid1, Seg2, Qual1, Node2] (value 0.0)>,\n",
       " <gurobi.Var X_vsq_n [Vid1, Seg2, Qual4, Node1] (value 0.0)>,\n",
       " <gurobi.Var X_vsq_n [Vid1, Seg2, Qual4, Node0] (value 1.0)>,\n",
       " <gurobi.Var X_vsq_n [Vid1, Seg2, Qual4, Node2] (value 0.0)>,\n",
       " <gurobi.Var X_vsq_n [Vid1, Seg2, Qual5, Node1] (value 0.0)>,\n",
       " <gurobi.Var X_vsq_n [Vid1, Seg2, Qual5, Node0] (value 1.0)>,\n",
       " <gurobi.Var X_vsq_n [Vid1, Seg2, Qual5, Node2] (value 0.0)>,\n",
       " <gurobi.Var X_vsq_nu [Vid1, Seg1, Qual2, Node1, UE1] (value 0.0)>,\n",
       " <gurobi.Var X_vsq_nu [Vid1, Seg1, Qual3, Node1, UE1] (value 0.0)>,\n",
       " <gurobi.Var X_vsq_nu [Vid1, Seg1, Qual1, Node1, UE1] (value 0.0)>,\n",
       " <gurobi.Var X_vsq_nu [Vid1, Seg1, Qual4, Node1, UE1] (value 0.0)>,\n",
       " <gurobi.Var X_vsq_nu [Vid1, Seg1, Qual5, Node1, UE1] (value 0.0)>,\n",
       " <gurobi.Var X_vsq_nu [Vid2, Seg1, Qual2, Node1, UE2] (value 0.0)>,\n",
       " <gurobi.Var X_vsq_nu [Vid2, Seg1, Qual3, Node1, UE2] (value 0.0)>,\n",
       " <gurobi.Var X_vsq_nu [Vid2, Seg1, Qual1, Node1, UE2] (value 0.0)>,\n",
       " <gurobi.Var X_vsq_nu [Vid2, Seg1, Qual4, Node1, UE2] (value 0.0)>,\n",
       " <gurobi.Var X_vsq_nu [Vid2, Seg1, Qual5, Node1, UE2] (value 0.0)>,\n",
       " <gurobi.Var X_vsq_nu [Vid1, Seg1, Qual2, Node0, UE1] (value 0.0)>,\n",
       " <gurobi.Var X_vsq_nu [Vid1, Seg1, Qual3, Node0, UE1] (value 0.0)>,\n",
       " <gurobi.Var X_vsq_nu [Vid1, Seg1, Qual1, Node0, UE1] (value 0.0)>,\n",
       " <gurobi.Var X_vsq_nu [Vid1, Seg1, Qual4, Node0, UE1] (value 0.0)>,\n",
       " <gurobi.Var X_vsq_nu [Vid1, Seg1, Qual5, Node0, UE1] (value 0.0)>,\n",
       " <gurobi.Var X_vsq_nu [Vid2, Seg1, Qual2, Node0, UE2] (value 0.0)>,\n",
       " <gurobi.Var X_vsq_nu [Vid2, Seg1, Qual3, Node0, UE2] (value 0.0)>,\n",
       " <gurobi.Var X_vsq_nu [Vid2, Seg1, Qual1, Node0, UE2] (value 0.0)>,\n",
       " <gurobi.Var X_vsq_nu [Vid2, Seg1, Qual4, Node0, UE2] (value 0.0)>,\n",
       " <gurobi.Var X_vsq_nu [Vid2, Seg1, Qual5, Node0, UE2] (value 0.0)>,\n",
       " <gurobi.Var X_vsq_nu [Vid1, Seg1, Qual2, Node2, UE1] (value 0.0)>,\n",
       " <gurobi.Var X_vsq_nu [Vid1, Seg1, Qual3, Node2, UE1] (value 0.0)>,\n",
       " <gurobi.Var X_vsq_nu [Vid1, Seg1, Qual1, Node2, UE1] (value 0.0)>,\n",
       " <gurobi.Var X_vsq_nu [Vid1, Seg1, Qual4, Node2, UE1] (value 0.0)>,\n",
       " <gurobi.Var X_vsq_nu [Vid1, Seg1, Qual5, Node2, UE1] (value 0.0)>,\n",
       " <gurobi.Var X_vsq_nu [Vid2, Seg1, Qual2, Node2, UE2] (value 0.0)>,\n",
       " <gurobi.Var X_vsq_nu [Vid2, Seg1, Qual3, Node2, UE2] (value 0.0)>,\n",
       " <gurobi.Var X_vsq_nu [Vid2, Seg1, Qual1, Node2, UE2] (value 0.0)>,\n",
       " <gurobi.Var X_vsq_nu [Vid2, Seg1, Qual4, Node2, UE2] (value 0.0)>,\n",
       " <gurobi.Var X_vsq_nu [Vid2, Seg1, Qual5, Node2, UE2] (value 0.0)>,\n",
       " <gurobi.Var X_ebar_e [UE1, ('Node1', 'Node0')] (value 0.0)>,\n",
       " <gurobi.Var X_ebar_e [UE1, ('Node1', 'Node2')] (value 0.0)>,\n",
       " <gurobi.Var X_ebar_e [UE1, ('Node0', 'Node2')] (value 0.0)>,\n",
       " <gurobi.Var X_ebar_e [UE2, ('Node1', 'Node0')] (value 0.0)>,\n",
       " <gurobi.Var X_ebar_e [UE2, ('Node1', 'Node2')] (value 0.0)>,\n",
       " <gurobi.Var X_ebar_e [UE2, ('Node0', 'Node2')] (value 0.0)>]"
      ]
     },
     "execution_count": 446,
     "metadata": {},
     "output_type": "execute_result"
    }
   ],
   "source": [
    "#model.Params.IntFeasTol = 1e-9\n",
    "model.optimize()\n",
    "model.getVars()"
   ]
  },
  {
   "cell_type": "code",
   "execution_count": null,
   "metadata": {},
   "outputs": [],
   "source": []
  },
  {
   "cell_type": "code",
   "execution_count": null,
   "metadata": {},
   "outputs": [],
   "source": []
  },
  {
   "cell_type": "code",
   "execution_count": null,
   "metadata": {},
   "outputs": [],
   "source": []
  }
 ],
 "metadata": {
  "kernelspec": {
   "display_name": "Python 2",
   "language": "python",
   "name": "python2"
  },
  "language_info": {
   "codemirror_mode": {
    "name": "ipython",
    "version": 2
   },
   "file_extension": ".py",
   "mimetype": "text/x-python",
   "name": "python",
   "nbconvert_exporter": "python",
   "pygments_lexer": "ipython2",
   "version": "2.7.16"
  }
 },
 "nbformat": 4,
 "nbformat_minor": 2
}
